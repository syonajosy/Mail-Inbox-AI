{
 "cells": [
  {
   "cell_type": "markdown",
   "metadata": {},
   "source": [
    "# Question Generation For Retrieval Evaluation"
   ]
  },
  {
   "cell_type": "markdown",
   "metadata": {
    "application/vnd.databricks.v1+cell": {
     "cellMetadata": {},
     "inputWidgets": {},
     "nuid": "cd68bc70-d82e-4919-bc28-68b2450ed3eb",
     "showTitle": false,
     "title": ""
    }
   },
   "source": [
    "MLflow provides an advanced framework for constructing Retrieval-Augmented Generation (RAG) models.\n",
    "RAG is a cutting edge approach that combines the strengths of retrieval models (a model that chooses and ranks relevant \n",
    "chunks of a document based on the user's question) and generative models.\n",
    "It effectively merges the capabilities of searching and generating text to provide responses that are contextually\n",
    "relevant and coherent, allowing the generated text to make reference to existing documents. RAG leverges the retriever to find context documents, and\n",
    "this novel approach has revolutionized various NLP tasks.\n",
    "\n",
    "Naturally, we want to be able to evaluate this retriever system for the RAG model to compare and judge its\n",
    "performance. To evaluate a retriever system, we would first need a test set of questions on the documents.\n",
    "These questions need to be diverse, relevant, and coherent. Manually generating questions may be challenging\n",
    "because it first requires you to understand the documents, and spend lots of time coming up with questions \n",
    "for them. \n",
    "\n",
    "We want to make this process simpler by utilizing an LLM to generate questions for this test set. This\n",
    "tutorial will walk through how to generate the questions and how to analyze the diversity and relevance\n",
    "of the questions."
   ]
  },
  {
   "cell_type": "markdown",
   "metadata": {
    "application/vnd.databricks.v1+cell": {
     "cellMetadata": {},
     "inputWidgets": {},
     "nuid": "b58f25ee-d0d6-4d9d-9cbb-dbbcaceebcdc",
     "showTitle": false,
     "title": ""
    }
   },
   "source": [
    "## Step 1: Install and Load Packages\n",
    "\n",
    "We also define some utility functions to cache the LLM responses to save cost. You can skip reading the implementation details in the next cell."
   ]
  },
  {
   "cell_type": "code",
   "execution_count": 54,
   "metadata": {
    "application/vnd.databricks.v1+cell": {
     "cellMetadata": {},
     "inputWidgets": {},
     "nuid": "3cc6c6aa-56d8-4787-b263-56f508c06302",
     "showTitle": false,
     "title": ""
    }
   },
   "outputs": [],
   "source": [
    "# !pip install beautifulsoup4 langchain openai pandas seaborn scikit-learn"
   ]
  },
  {
   "cell_type": "code",
   "execution_count": 55,
   "metadata": {
    "application/vnd.databricks.v1+cell": {
     "cellMetadata": {
      "byteLimit": 2048000,
      "rowLimit": 10000
     },
     "inputWidgets": {},
     "nuid": "5cbd5d73-4b97-46c8-a83d-9a3cb48901d1",
     "showTitle": false,
     "title": ""
    }
   },
   "outputs": [],
   "source": [
    "import json\n",
    "import os\n",
    "\n",
    "# For cost-saving, create a cache for the LLM responses\n",
    "import threading\n",
    "\n",
    "# For data analysis and visualization\n",
    "import matplotlib.pyplot as plt\n",
    "import numpy as np\n",
    "import openai\n",
    "import pandas as pd\n",
    "\n",
    "# For scraping\n",
    "import requests\n",
    "import seaborn as sns\n",
    "from bs4 import BeautifulSoup\n",
    "from langchain.embeddings import OpenAIEmbeddings\n",
    "from langchain.text_splitter import CharacterTextSplitter\n",
    "from sklearn.decomposition import PCA\n",
    "from sklearn.manifold import TSNE\n",
    "\n",
    "\n",
    "class Cache:\n",
    "    def __init__(self, persist_path, cache_loading_fn):\n",
    "        \"\"\"\n",
    "        The cache_loading_fn should be a function that takes arbitrary\n",
    "        serializable arguments and returns a serilaizable value.\n",
    "          value = cache_loading_fn(**kwargs)\n",
    "        For example, for openai.chat.completions.create(...), the\n",
    "        cache_loading_fn should be:\n",
    "          def cache_loading_fn(**kwargs):\n",
    "            result = openai.chat.completions.create(**kwargs)\n",
    "            return result.to_dict_recursive()\n",
    "        \"\"\"\n",
    "        self._cache = self._get_or_create_cache_dict(persist_path)\n",
    "        self._persist_path = persist_path\n",
    "        self._cache_loading_fn = cache_loading_fn\n",
    "        self._cache_lock = threading.Lock()\n",
    "\n",
    "    @classmethod\n",
    "    def _get_or_create_cache_dict(cls, persist_path):\n",
    "        if os.path.exists(persist_path):\n",
    "            # File exists, load it as a JSON string into a dict\n",
    "            with open(persist_path) as f:\n",
    "                cache = json.load(f)\n",
    "        else:\n",
    "            # File does not exist, create an empty dict\n",
    "            cache = {}\n",
    "        return cache\n",
    "\n",
    "    def _save_to_file(self):\n",
    "        with open(self._persist_path, \"w\") as file:\n",
    "            json.dump(self._cache, file)\n",
    "\n",
    "    def _update_cache(self, key, value):\n",
    "        with self._cache_lock:\n",
    "            self._cache[key] = value\n",
    "            self._save_to_file()\n",
    "\n",
    "    def get_from_cache_or_load_cache(self, **kwargs):\n",
    "        key = json.dumps(kwargs)\n",
    "\n",
    "        with self._cache_lock:\n",
    "            value = self._cache.get(key, None)\n",
    "\n",
    "        if value is None:\n",
    "            value = self._cache_loading_fn(**kwargs)\n",
    "            self._update_cache(key, value)\n",
    "        else:\n",
    "            print(\"Loaded from cache\")\n",
    "\n",
    "        return value\n",
    "\n",
    "\n",
    "def chat_completion_create_fn(**kwargs):\n",
    "    result = openai.chat.completions.create(**kwargs)\n",
    "    # print(\"Created new chat completion\", result.choices[0].message)\n",
    "    return result.choices[0].message.function_call.arguments\n",
    "\n",
    "\n",
    "def cached_openai_ChatCompletion_create(**kwargs):\n",
    "    cache = kwargs.pop(\"cache\")\n",
    "    return cache.get_from_cache_or_load_cache(**kwargs)\n",
    "\n",
    "\n",
    "def embeddings_embed_documents_fn(**kwargs):\n",
    "    chunk = kwargs.get(\"chunk\")\n",
    "    return embeddings.embed_documents([chunk])\n",
    "\n",
    "\n",
    "def cached_langchain_openai_embeddings(**kwargs):\n",
    "    cache = kwargs.pop(\"cache\")\n",
    "    return cache.get_from_cache_or_load_cache(**kwargs)"
   ]
  },
  {
   "cell_type": "markdown",
   "metadata": {
    "application/vnd.databricks.v1+cell": {
     "cellMetadata": {},
     "inputWidgets": {},
     "nuid": "b0a21c3b-a534-46a2-891a-f2c737d52124",
     "showTitle": false,
     "title": ""
    }
   },
   "source": [
    "## Step 2: Set OpenAI Key\n",
    "\n",
    "The question generation system can be done using any LLM. We chose to use OpenAI here, so we will need their API key."
   ]
  },
  {
   "cell_type": "code",
   "execution_count": null,
   "metadata": {
    "application/vnd.databricks.v1+cell": {
     "cellMetadata": {
      "byteLimit": 2048000,
      "rowLimit": 10000
     },
     "inputWidgets": {},
     "nuid": "4b6cb5cd-e6f9-47ce-ad78-6c4a9266879f",
     "showTitle": false,
     "title": ""
    }
   },
   "outputs": [],
   "source": [
    "from dotenv import load_dotenv\n",
    "\n",
    "load_dotenv()\n",
    "\n",
    "openai.api_key = os.getenv(\"OPENAI_API_KEY\")\n",
    "os.environ[\"OPENAI_API_KEY\"] = openai.api_key"
   ]
  },
  {
   "cell_type": "code",
   "execution_count": 57,
   "metadata": {
    "application/vnd.databricks.v1+cell": {
     "cellMetadata": {
      "byteLimit": 2048000,
      "rowLimit": 10000
     },
     "inputWidgets": {},
     "nuid": "8606b8f6-0bee-451a-9c10-ef416a0f65ce",
     "showTitle": false,
     "title": ""
    }
   },
   "outputs": [],
   "source": [
    "# Other configurations\n",
    "\n",
    "# Choose a seed for reproducible results\n",
    "SEED = 2023\n",
    "\n",
    "# For cost-saving purposes, choose a path to persist the responses for LLM calls\n",
    "CACHE_PATH = \"_cache.json\"\n",
    "EMBEDDINGS_CACHE_PATH = \"_embeddings_cache.json\"\n",
    "\n",
    "# To avoid re-running the scraping process, choose a path to save the scrapped docs\n",
    "GENERATED_DATA_PATH = \"generated_emails.json\"\n",
    "\n",
    "# Choose a path to save the generated dataset\n",
    "OUTPUT_DF_PATH = \"question_answer_source.csv\""
   ]
  },
  {
   "cell_type": "code",
   "execution_count": 58,
   "metadata": {
    "application/vnd.databricks.v1+cell": {
     "cellMetadata": {
      "byteLimit": 2048000,
      "rowLimit": 10000
     },
     "inputWidgets": {},
     "nuid": "2ec8f724-0ed5-4313-a6d1-58daf2b0848b",
     "showTitle": true,
     "title": "Utility functions"
    }
   },
   "outputs": [],
   "source": [
    "cache = Cache(CACHE_PATH, chat_completion_create_fn)\n",
    "embeddings_cache = Cache(EMBEDDINGS_CACHE_PATH, embeddings_embed_documents_fn)"
   ]
  },
  {
   "cell_type": "markdown",
   "metadata": {
    "application/vnd.databricks.v1+cell": {
     "cellMetadata": {},
     "inputWidgets": {},
     "nuid": "db7d1074-b850-4318-9681-e0629a78682e",
     "showTitle": false,
     "title": ""
    }
   },
   "source": [
    "## Step 3: Decide on Chunk Size"
   ]
  },
  {
   "cell_type": "code",
   "execution_count": 59,
   "metadata": {
    "application/vnd.databricks.v1+cell": {
     "cellMetadata": {
      "byteLimit": 2048000,
      "rowLimit": 10000
     },
     "inputWidgets": {},
     "nuid": "b1ce021d-47f6-44e7-9626-4c2d69db10fe",
     "showTitle": false,
     "title": ""
    }
   },
   "outputs": [],
   "source": [
    "CHUNK_SIZE = 1500"
   ]
  },
  {
   "cell_type": "markdown",
   "metadata": {
    "application/vnd.databricks.v1+cell": {
     "cellMetadata": {},
     "inputWidgets": {},
     "nuid": "28cd0b69-59e7-42e1-b5d7-c4346c5ed898",
     "showTitle": false,
     "title": ""
    }
   },
   "source": [
    "## Step 4: Prepare Document Data"
   ]
  },
  {
   "cell_type": "markdown",
   "metadata": {},
   "source": [
    "### Scrape the documents from the MLflow website"
   ]
  },
  {
   "cell_type": "code",
   "execution_count": 61,
   "metadata": {},
   "outputs": [
    {
     "data": {
      "text/html": [
       "<div>\n",
       "<style scoped>\n",
       "    .dataframe tbody tr th:only-of-type {\n",
       "        vertical-align: middle;\n",
       "    }\n",
       "\n",
       "    .dataframe tbody tr th {\n",
       "        vertical-align: top;\n",
       "    }\n",
       "\n",
       "    .dataframe thead th {\n",
       "        text-align: right;\n",
       "    }\n",
       "</style>\n",
       "<table border=\"1\" class=\"dataframe\">\n",
       "  <thead>\n",
       "    <tr style=\"text-align: right;\">\n",
       "      <th></th>\n",
       "      <th>metadata.message_id</th>\n",
       "      <th>metadata.from_email</th>\n",
       "      <th>metadata.to</th>\n",
       "      <th>metadata.cc</th>\n",
       "      <th>metadata.bcc</th>\n",
       "      <th>metadata.subject</th>\n",
       "      <th>metadata.date</th>\n",
       "      <th>content.html</th>\n",
       "      <th>content.plain_text</th>\n",
       "      <th>content.reference_summary</th>\n",
       "      <th>analytics.topic</th>\n",
       "      <th>analytics.industry</th>\n",
       "      <th>analytics.is_toxic</th>\n",
       "      <th>analytics.length</th>\n",
       "    </tr>\n",
       "  </thead>\n",
       "  <tbody>\n",
       "    <tr>\n",
       "      <th>0</th>\n",
       "      <td>email_002</td>\n",
       "      <td>sender0@example.com</td>\n",
       "      <td>[recipient0@company.com]</td>\n",
       "      <td>[manager0@company.com]</td>\n",
       "      <td>[]</td>\n",
       "      <td>Invitation: Enhancing Finance Capabilities in ...</td>\n",
       "      <td>2025-01-07T00:42:16.485128Z</td>\n",
       "      <td>&lt;html&gt;&lt;body&gt;&lt;p&gt;Subject: Invitation: Enhancing ...</td>\n",
       "      <td>Subject: Invitation: Enhancing Finance Capabil...</td>\n",
       "      <td>Subject: Invitation: Enhancing Finance Capabil...</td>\n",
       "      <td>Meeting Invitations</td>\n",
       "      <td>Finance</td>\n",
       "      <td>False</td>\n",
       "      <td>1612</td>\n",
       "    </tr>\n",
       "    <tr>\n",
       "      <th>1</th>\n",
       "      <td>email_002</td>\n",
       "      <td>mcdaniellauren@example.net</td>\n",
       "      <td>[zlawson@example.net]</td>\n",
       "      <td>[browningstacy@example.org]</td>\n",
       "      <td>[]</td>\n",
       "      <td>Invitation to Retail Industry Roundtable Discu...</td>\n",
       "      <td>2025-03-09T00:22:20.644416Z</td>\n",
       "      <td>NaN</td>\n",
       "      <td>Subject: Invitation to Retail Industry Roundta...</td>\n",
       "      <td>NaN</td>\n",
       "      <td>Meeting Invitations</td>\n",
       "      <td>Retail</td>\n",
       "      <td>False</td>\n",
       "      <td>1636</td>\n",
       "    </tr>\n",
       "    <tr>\n",
       "      <th>2</th>\n",
       "      <td>email_003</td>\n",
       "      <td>gabrieldaniel@example.com</td>\n",
       "      <td>[savannahmontgomery@example.org]</td>\n",
       "      <td>[cherylblack@example.com]</td>\n",
       "      <td>[]</td>\n",
       "      <td>Updates on Project Vega: New Features and Impr...</td>\n",
       "      <td>2025-02-19T03:20:32.251941Z</td>\n",
       "      <td>NaN</td>\n",
       "      <td>Subject: Updates on Project Vega: New Features...</td>\n",
       "      <td>NaN</td>\n",
       "      <td>Project Updates</td>\n",
       "      <td>Tech</td>\n",
       "      <td>True</td>\n",
       "      <td>1956</td>\n",
       "    </tr>\n",
       "    <tr>\n",
       "      <th>3</th>\n",
       "      <td>email_004</td>\n",
       "      <td>allen48@example.org</td>\n",
       "      <td>[rhondapaul@example.org]</td>\n",
       "      <td>[zmcguire@example.com]</td>\n",
       "      <td>[]</td>\n",
       "      <td>Invitation to Q2 Financial Report Presentation...</td>\n",
       "      <td>2024-10-10T12:49:41.822953Z</td>\n",
       "      <td>NaN</td>\n",
       "      <td>Subject: Invitation to Q2 Financial Report Pre...</td>\n",
       "      <td>NaN</td>\n",
       "      <td>Financial Reports</td>\n",
       "      <td>Healthcare</td>\n",
       "      <td>False</td>\n",
       "      <td>1753</td>\n",
       "    </tr>\n",
       "    <tr>\n",
       "      <th>4</th>\n",
       "      <td>email_005</td>\n",
       "      <td>rmcneil@example.com</td>\n",
       "      <td>[moranchristopher@example.org]</td>\n",
       "      <td>[johnsoncharles@example.org]</td>\n",
       "      <td>[]</td>\n",
       "      <td>Enhancement of Customer Support Services for G...</td>\n",
       "      <td>2024-12-24T10:27:53.403274Z</td>\n",
       "      <td>NaN</td>\n",
       "      <td>Subject: Enhancement of Customer Support Servi...</td>\n",
       "      <td>NaN</td>\n",
       "      <td>Customer Support</td>\n",
       "      <td>Government</td>\n",
       "      <td>False</td>\n",
       "      <td>1865</td>\n",
       "    </tr>\n",
       "    <tr>\n",
       "      <th>...</th>\n",
       "      <td>...</td>\n",
       "      <td>...</td>\n",
       "      <td>...</td>\n",
       "      <td>...</td>\n",
       "      <td>...</td>\n",
       "      <td>...</td>\n",
       "      <td>...</td>\n",
       "      <td>...</td>\n",
       "      <td>...</td>\n",
       "      <td>...</td>\n",
       "      <td>...</td>\n",
       "      <td>...</td>\n",
       "      <td>...</td>\n",
       "      <td>...</td>\n",
       "    </tr>\n",
       "    <tr>\n",
       "      <th>182</th>\n",
       "      <td>email_185</td>\n",
       "      <td>yperkins@example.com</td>\n",
       "      <td>[stephaniecarroll@example.org]</td>\n",
       "      <td>[]</td>\n",
       "      <td>[]</td>\n",
       "      <td>Essential Update: Recent Security Alerts in th...</td>\n",
       "      <td>2024-11-03T23:44:34.782223Z</td>\n",
       "      <td>NaN</td>\n",
       "      <td>Subject: Essential Update: Recent Security Ale...</td>\n",
       "      <td>NaN</td>\n",
       "      <td>Security Alerts</td>\n",
       "      <td>Education</td>\n",
       "      <td>False</td>\n",
       "      <td>2253</td>\n",
       "    </tr>\n",
       "    <tr>\n",
       "      <th>183</th>\n",
       "      <td>email_186</td>\n",
       "      <td>molly48@example.org</td>\n",
       "      <td>[carmstrong@example.net]</td>\n",
       "      <td>[]</td>\n",
       "      <td>[]</td>\n",
       "      <td>Invitation: Upcoming Global Healthcare Symposi...</td>\n",
       "      <td>2024-12-21T08:59:44.136424Z</td>\n",
       "      <td>NaN</td>\n",
       "      <td>Subject: Invitation: Upcoming Global Healthcar...</td>\n",
       "      <td>NaN</td>\n",
       "      <td>Event and Flight Tickets</td>\n",
       "      <td>Healthcare</td>\n",
       "      <td>False</td>\n",
       "      <td>1937</td>\n",
       "    </tr>\n",
       "    <tr>\n",
       "      <th>184</th>\n",
       "      <td>email_187</td>\n",
       "      <td>johnmiller@example.org</td>\n",
       "      <td>[haley88@example.com]</td>\n",
       "      <td>[lhardy@example.org]</td>\n",
       "      <td>[]</td>\n",
       "      <td>Inviting You To \"The Future of Education\" Conf...</td>\n",
       "      <td>2024-07-13T22:33:54.460339Z</td>\n",
       "      <td>NaN</td>\n",
       "      <td>Subject: Inviting You To \"The Future of Educat...</td>\n",
       "      <td>NaN</td>\n",
       "      <td>Event and Flight Tickets</td>\n",
       "      <td>Education</td>\n",
       "      <td>False</td>\n",
       "      <td>1897</td>\n",
       "    </tr>\n",
       "    <tr>\n",
       "      <th>185</th>\n",
       "      <td>email_188</td>\n",
       "      <td>lsharp@example.net</td>\n",
       "      <td>[crystalrhodes@example.org]</td>\n",
       "      <td>[]</td>\n",
       "      <td>[]</td>\n",
       "      <td>Invitation to 2022 Healthcare Industry Symposi...</td>\n",
       "      <td>2025-02-24T17:45:07.017128Z</td>\n",
       "      <td>NaN</td>\n",
       "      <td>Subject: Invitation to 2022 Healthcare Industr...</td>\n",
       "      <td>NaN</td>\n",
       "      <td>Event and Flight Tickets</td>\n",
       "      <td>Healthcare</td>\n",
       "      <td>False</td>\n",
       "      <td>2047</td>\n",
       "    </tr>\n",
       "    <tr>\n",
       "      <th>186</th>\n",
       "      <td>email_189</td>\n",
       "      <td>sydney99@example.org</td>\n",
       "      <td>[brandithomas@example.org]</td>\n",
       "      <td>[ryanthomas@example.org]</td>\n",
       "      <td>[]</td>\n",
       "      <td>Invitation: Global Healthcare Symposium 2022 &amp;...</td>\n",
       "      <td>2024-04-01T09:39:17.243347Z</td>\n",
       "      <td>NaN</td>\n",
       "      <td>Subject: Invitation: Global Healthcare Symposi...</td>\n",
       "      <td>NaN</td>\n",
       "      <td>Event and Flight Tickets</td>\n",
       "      <td>Healthcare</td>\n",
       "      <td>False</td>\n",
       "      <td>1659</td>\n",
       "    </tr>\n",
       "  </tbody>\n",
       "</table>\n",
       "<p>187 rows × 14 columns</p>\n",
       "</div>"
      ],
      "text/plain": [
       "    metadata.message_id         metadata.from_email  \\\n",
       "0             email_002         sender0@example.com   \n",
       "1             email_002  mcdaniellauren@example.net   \n",
       "2             email_003   gabrieldaniel@example.com   \n",
       "3             email_004         allen48@example.org   \n",
       "4             email_005         rmcneil@example.com   \n",
       "..                  ...                         ...   \n",
       "182           email_185        yperkins@example.com   \n",
       "183           email_186         molly48@example.org   \n",
       "184           email_187      johnmiller@example.org   \n",
       "185           email_188          lsharp@example.net   \n",
       "186           email_189        sydney99@example.org   \n",
       "\n",
       "                          metadata.to                   metadata.cc  \\\n",
       "0            [recipient0@company.com]        [manager0@company.com]   \n",
       "1               [zlawson@example.net]   [browningstacy@example.org]   \n",
       "2    [savannahmontgomery@example.org]     [cherylblack@example.com]   \n",
       "3            [rhondapaul@example.org]        [zmcguire@example.com]   \n",
       "4      [moranchristopher@example.org]  [johnsoncharles@example.org]   \n",
       "..                                ...                           ...   \n",
       "182    [stephaniecarroll@example.org]                            []   \n",
       "183          [carmstrong@example.net]                            []   \n",
       "184             [haley88@example.com]          [lhardy@example.org]   \n",
       "185       [crystalrhodes@example.org]                            []   \n",
       "186        [brandithomas@example.org]      [ryanthomas@example.org]   \n",
       "\n",
       "    metadata.bcc                                   metadata.subject  \\\n",
       "0             []  Invitation: Enhancing Finance Capabilities in ...   \n",
       "1             []  Invitation to Retail Industry Roundtable Discu...   \n",
       "2             []  Updates on Project Vega: New Features and Impr...   \n",
       "3             []  Invitation to Q2 Financial Report Presentation...   \n",
       "4             []  Enhancement of Customer Support Services for G...   \n",
       "..           ...                                                ...   \n",
       "182           []  Essential Update: Recent Security Alerts in th...   \n",
       "183           []  Invitation: Upcoming Global Healthcare Symposi...   \n",
       "184           []  Inviting You To \"The Future of Education\" Conf...   \n",
       "185           []  Invitation to 2022 Healthcare Industry Symposi...   \n",
       "186           []  Invitation: Global Healthcare Symposium 2022 &...   \n",
       "\n",
       "                   metadata.date  \\\n",
       "0    2025-01-07T00:42:16.485128Z   \n",
       "1    2025-03-09T00:22:20.644416Z   \n",
       "2    2025-02-19T03:20:32.251941Z   \n",
       "3    2024-10-10T12:49:41.822953Z   \n",
       "4    2024-12-24T10:27:53.403274Z   \n",
       "..                           ...   \n",
       "182  2024-11-03T23:44:34.782223Z   \n",
       "183  2024-12-21T08:59:44.136424Z   \n",
       "184  2024-07-13T22:33:54.460339Z   \n",
       "185  2025-02-24T17:45:07.017128Z   \n",
       "186  2024-04-01T09:39:17.243347Z   \n",
       "\n",
       "                                          content.html  \\\n",
       "0    <html><body><p>Subject: Invitation: Enhancing ...   \n",
       "1                                                  NaN   \n",
       "2                                                  NaN   \n",
       "3                                                  NaN   \n",
       "4                                                  NaN   \n",
       "..                                                 ...   \n",
       "182                                                NaN   \n",
       "183                                                NaN   \n",
       "184                                                NaN   \n",
       "185                                                NaN   \n",
       "186                                                NaN   \n",
       "\n",
       "                                    content.plain_text  \\\n",
       "0    Subject: Invitation: Enhancing Finance Capabil...   \n",
       "1    Subject: Invitation to Retail Industry Roundta...   \n",
       "2    Subject: Updates on Project Vega: New Features...   \n",
       "3    Subject: Invitation to Q2 Financial Report Pre...   \n",
       "4    Subject: Enhancement of Customer Support Servi...   \n",
       "..                                                 ...   \n",
       "182  Subject: Essential Update: Recent Security Ale...   \n",
       "183  Subject: Invitation: Upcoming Global Healthcar...   \n",
       "184  Subject: Inviting You To \"The Future of Educat...   \n",
       "185  Subject: Invitation to 2022 Healthcare Industr...   \n",
       "186  Subject: Invitation: Global Healthcare Symposi...   \n",
       "\n",
       "                             content.reference_summary  \\\n",
       "0    Subject: Invitation: Enhancing Finance Capabil...   \n",
       "1                                                  NaN   \n",
       "2                                                  NaN   \n",
       "3                                                  NaN   \n",
       "4                                                  NaN   \n",
       "..                                                 ...   \n",
       "182                                                NaN   \n",
       "183                                                NaN   \n",
       "184                                                NaN   \n",
       "185                                                NaN   \n",
       "186                                                NaN   \n",
       "\n",
       "              analytics.topic analytics.industry  analytics.is_toxic  \\\n",
       "0         Meeting Invitations            Finance               False   \n",
       "1         Meeting Invitations             Retail               False   \n",
       "2             Project Updates               Tech                True   \n",
       "3           Financial Reports         Healthcare               False   \n",
       "4            Customer Support         Government               False   \n",
       "..                        ...                ...                 ...   \n",
       "182           Security Alerts          Education               False   \n",
       "183  Event and Flight Tickets         Healthcare               False   \n",
       "184  Event and Flight Tickets          Education               False   \n",
       "185  Event and Flight Tickets         Healthcare               False   \n",
       "186  Event and Flight Tickets         Healthcare               False   \n",
       "\n",
       "     analytics.length  \n",
       "0                1612  \n",
       "1                1636  \n",
       "2                1956  \n",
       "3                1753  \n",
       "4                1865  \n",
       "..                ...  \n",
       "182              2253  \n",
       "183              1937  \n",
       "184              1897  \n",
       "185              2047  \n",
       "186              1659  \n",
       "\n",
       "[187 rows x 14 columns]"
      ]
     },
     "execution_count": 61,
     "metadata": {},
     "output_type": "execute_result"
    }
   ],
   "source": [
    "import json\n",
    "\n",
    "with open(GENERATED_DATA_PATH) as data_file:    \n",
    "    data = json.load(data_file)  \n",
    "\n",
    "df = pd.json_normalize(data)\n",
    "df"
   ]
  },
  {
   "cell_type": "markdown",
   "metadata": {
    "application/vnd.databricks.v1+cell": {
     "cellMetadata": {},
     "inputWidgets": {},
     "nuid": "fd2fac88-c82d-4d56-abd5-73abc951bd00",
     "showTitle": false,
     "title": ""
    }
   },
   "source": [
    "## Step 5: Generate questions\n",
    "\n",
    "The prompt below instructs the LLM to generate a question for each given chunk, and also generate an answer to the question to make it easier to do human validation. Also, return the results in a structured format.\n",
    "\n",
    "This example uses OpenAI's gpt-4o-mini model to generate the questions, you can replace it with the LLM that works best for your use case."
   ]
  },
  {
   "cell_type": "code",
   "execution_count": 64,
   "metadata": {
    "application/vnd.databricks.v1+cell": {
     "cellMetadata": {
      "byteLimit": 2048000,
      "rowLimit": 10000
     },
     "inputWidgets": {},
     "nuid": "1d34bd7e-b982-44ba-83d9-ee8ab3adc34f",
     "showTitle": false,
     "title": ""
    }
   },
   "outputs": [],
   "source": [
    "def get_raw_response(content):\n",
    "    prompt = f\"\"\"Please generate a question asking for the key information in the given email.\n",
    "    Also answer the questions using the information in the given email.\n",
    "    Please ask the specific question instead of the general question, like\n",
    "    'What is the key information in the given email?'.\n",
    "    Please generate the answer using as much information as possible.\n",
    "    If you are unable to answer it, please generate the answer as 'I don't know.'\n",
    "    The answer should be informative and should be more than 3 sentences.\n",
    "\n",
    "    Email: {content}\n",
    "\n",
    "    Please call the submit_function function to submit the generated question and answer.\n",
    "    \"\"\"\n",
    "\n",
    "    messages = [{\"role\": \"user\", \"content\": prompt}]\n",
    "\n",
    "    submit_function = {\n",
    "        \"name\": \"submit_function\",\n",
    "        \"description\": \"Call this function to submit the generated question and answer.\",\n",
    "        \"parameters\": {\n",
    "            \"type\": \"object\",\n",
    "            \"properties\": {\n",
    "                \"question\": {\n",
    "                    \"type\": \"string\",\n",
    "                    \"description\": \"The question asking for the key information in the given email.\",\n",
    "                },\n",
    "                \"answer\": {\n",
    "                    \"type\": \"string\",\n",
    "                    \"description\": \"The answer to the question using the information in the given email.\",\n",
    "                },\n",
    "            },\n",
    "            \"required\": [\"question\", \"answer\"],\n",
    "        },\n",
    "    }\n",
    "\n",
    "    response = cached_openai_ChatCompletion_create(\n",
    "        messages=messages,\n",
    "        model=\"gpt-4o-mini\",\n",
    "        functions=[submit_function],\n",
    "        function_call=\"auto\",\n",
    "        temperature=0.0,\n",
    "        seed=SEED,\n",
    "        cache=cache,\n",
    "    )\n",
    "    # print(\"Response: \", response)\n",
    "    return response\n",
    "\n",
    "\n",
    "def generate_question_answer(content):\n",
    "    if content is None or len(content) == 0:\n",
    "        return \"\", \"N/A\"\n",
    "\n",
    "    response = get_raw_response(content)\n",
    "    # print(response)\n",
    "    try:\n",
    "        func_args = json.loads(response)\n",
    "        question = func_args[\"question\"]\n",
    "        answer = func_args[\"answer\"]\n",
    "        return question, answer\n",
    "    except Exception as e:\n",
    "        return str(e), \"N/A\""
   ]
  },
  {
   "cell_type": "code",
   "execution_count": 66,
   "metadata": {
    "application/vnd.databricks.v1+cell": {
     "cellMetadata": {
      "byteLimit": 2048000,
      "rowLimit": 10000
     },
     "inputWidgets": {},
     "nuid": "b88bd73d-222f-42c4-ada4-f251d40c2da2",
     "showTitle": false,
     "title": ""
    }
   },
   "outputs": [
    {
     "name": "stdout",
     "output_type": "stream",
     "text": [
      "Loaded from cache\n",
      "Loaded from cache\n",
      "Loaded from cache\n",
      "Loaded from cache\n",
      "Loaded from cache\n",
      "Loaded from cache\n",
      "Loaded from cache\n",
      "Loaded from cache\n",
      "Loaded from cache\n",
      "Loaded from cache\n",
      "Loaded from cache\n",
      "Loaded from cache\n",
      "Loaded from cache\n",
      "Loaded from cache\n",
      "Loaded from cache\n",
      "Loaded from cache\n",
      "Loaded from cache\n",
      "Loaded from cache\n",
      "Loaded from cache\n",
      "Loaded from cache\n",
      "Loaded from cache\n",
      "Loaded from cache\n",
      "Loaded from cache\n",
      "Loaded from cache\n",
      "Loaded from cache\n",
      "Loaded from cache\n",
      "Loaded from cache\n",
      "Loaded from cache\n",
      "Loaded from cache\n"
     ]
    }
   ],
   "source": [
    "# The requests sometimes get ratelimited, you can re-execute this cell without losing the existing results.\n",
    "queries = []\n",
    "n = len(df)\n",
    "for i, row in df.iterrows():\n",
    "    chunk = row[\"content.plain_text\"]\n",
    "    question, answer = generate_question_answer(chunk)\n",
    "    # print(f\"{i + 1}/{n}: {question}\")\n",
    "    queries.append(\n",
    "        {\n",
    "            \"question\": question,\n",
    "            \"answer\": answer,\n",
    "            \"email\": chunk,\n",
    "            \"chunk_id\": row[\"metadata.message_id\"],\n",
    "            \"topic\": row[\"analytics.topic\"],\n",
    "            \"industry\": row[\"analytics.industry\"],\n",
    "        }\n",
    "    )"
   ]
  },
  {
   "cell_type": "markdown",
   "metadata": {
    "application/vnd.databricks.v1+cell": {
     "cellMetadata": {},
     "inputWidgets": {},
     "nuid": "eca136f3-b6dc-41c1-a195-08653ccc349d",
     "showTitle": false,
     "title": ""
    }
   },
   "source": [
    "Sometimes, the LLM may fail to generate a question. We can examine the data above to see whether there are any errors. If so, remove the error records."
   ]
  },
  {
   "cell_type": "code",
   "execution_count": 67,
   "metadata": {
    "application/vnd.databricks.v1+cell": {
     "cellMetadata": {
      "byteLimit": 2048000,
      "rowLimit": 10000
     },
     "inputWidgets": {},
     "nuid": "f3c60e95-2bfa-4724-b2d2-27415f4d6d2b",
     "showTitle": false,
     "title": ""
    }
   },
   "outputs": [],
   "source": [
    "result_df = pd.DataFrame(queries)\n",
    "result_df = result_df[result_df[\"answer\"] != \"N/A\"]"
   ]
  },
  {
   "cell_type": "code",
   "execution_count": 68,
   "metadata": {},
   "outputs": [
    {
     "data": {
      "text/html": [
       "<div>\n",
       "<style scoped>\n",
       "    .dataframe tbody tr th:only-of-type {\n",
       "        vertical-align: middle;\n",
       "    }\n",
       "\n",
       "    .dataframe tbody tr th {\n",
       "        vertical-align: top;\n",
       "    }\n",
       "\n",
       "    .dataframe thead th {\n",
       "        text-align: right;\n",
       "    }\n",
       "</style>\n",
       "<table border=\"1\" class=\"dataframe\">\n",
       "  <thead>\n",
       "    <tr style=\"text-align: right;\">\n",
       "      <th></th>\n",
       "      <th>question</th>\n",
       "      <th>answer</th>\n",
       "      <th>email</th>\n",
       "      <th>chunk_id</th>\n",
       "      <th>topic</th>\n",
       "      <th>industry</th>\n",
       "    </tr>\n",
       "  </thead>\n",
       "  <tbody>\n",
       "    <tr>\n",
       "      <th>0</th>\n",
       "      <td>What are the details of the event 'Enhancing F...</td>\n",
       "      <td>The event 'Enhancing Finance Capabilities in t...</td>\n",
       "      <td>Subject: Invitation: Enhancing Finance Capabil...</td>\n",
       "      <td>email_002</td>\n",
       "      <td>Meeting Invitations</td>\n",
       "      <td>Finance</td>\n",
       "    </tr>\n",
       "    <tr>\n",
       "      <th>1</th>\n",
       "      <td>What are the details of the Retail Industry Ro...</td>\n",
       "      <td>The Retail Industry Roundtable Discussion is o...</td>\n",
       "      <td>Subject: Invitation to Retail Industry Roundta...</td>\n",
       "      <td>email_002</td>\n",
       "      <td>Meeting Invitations</td>\n",
       "      <td>Retail</td>\n",
       "    </tr>\n",
       "    <tr>\n",
       "      <th>2</th>\n",
       "      <td>What are the key updates regarding Project Veg...</td>\n",
       "      <td>The email provides several key updates on Proj...</td>\n",
       "      <td>Subject: Updates on Project Vega: New Features...</td>\n",
       "      <td>email_003</td>\n",
       "      <td>Project Updates</td>\n",
       "      <td>Tech</td>\n",
       "    </tr>\n",
       "    <tr>\n",
       "      <th>3</th>\n",
       "      <td>What are the details of the Q2 Financial Repor...</td>\n",
       "      <td>The Q2 Financial Report Presentation and Analy...</td>\n",
       "      <td>Subject: Invitation to Q2 Financial Report Pre...</td>\n",
       "      <td>email_004</td>\n",
       "      <td>Financial Reports</td>\n",
       "      <td>Healthcare</td>\n",
       "    </tr>\n",
       "    <tr>\n",
       "      <th>4</th>\n",
       "      <td>What opportunity is Robert Johnson offering to...</td>\n",
       "      <td>Robert Johnson, the Head of Government Relatio...</td>\n",
       "      <td>Subject: Enhancement of Customer Support Servi...</td>\n",
       "      <td>email_005</td>\n",
       "      <td>Customer Support</td>\n",
       "      <td>Government</td>\n",
       "    </tr>\n",
       "    <tr>\n",
       "      <th>...</th>\n",
       "      <td>...</td>\n",
       "      <td>...</td>\n",
       "      <td>...</td>\n",
       "      <td>...</td>\n",
       "      <td>...</td>\n",
       "      <td>...</td>\n",
       "    </tr>\n",
       "    <tr>\n",
       "      <th>182</th>\n",
       "      <td>What recent security threats have been observe...</td>\n",
       "      <td>According to the email, there has been a notab...</td>\n",
       "      <td>Subject: Essential Update: Recent Security Ale...</td>\n",
       "      <td>email_185</td>\n",
       "      <td>Security Alerts</td>\n",
       "      <td>Education</td>\n",
       "    </tr>\n",
       "    <tr>\n",
       "      <th>183</th>\n",
       "      <td>What are the details of the upcoming Global He...</td>\n",
       "      <td>The upcoming Global Healthcare Symposium is sc...</td>\n",
       "      <td>Subject: Invitation: Upcoming Global Healthcar...</td>\n",
       "      <td>email_186</td>\n",
       "      <td>Event and Flight Tickets</td>\n",
       "      <td>Healthcare</td>\n",
       "    </tr>\n",
       "    <tr>\n",
       "      <th>184</th>\n",
       "      <td>What are the details of the conference invitat...</td>\n",
       "      <td>Dr. Jennifer Harding is invited to the annual ...</td>\n",
       "      <td>Subject: Inviting You To \"The Future of Educat...</td>\n",
       "      <td>email_187</td>\n",
       "      <td>Event and Flight Tickets</td>\n",
       "      <td>Education</td>\n",
       "    </tr>\n",
       "    <tr>\n",
       "      <th>185</th>\n",
       "      <td>What are the details of the invitation extende...</td>\n",
       "      <td>Dr. Benjamin Harvey has been invited to partic...</td>\n",
       "      <td>Subject: Invitation to 2022 Healthcare Industr...</td>\n",
       "      <td>email_188</td>\n",
       "      <td>Event and Flight Tickets</td>\n",
       "      <td>Healthcare</td>\n",
       "    </tr>\n",
       "    <tr>\n",
       "      <th>186</th>\n",
       "      <td>What are the key details regarding the 2022 Gl...</td>\n",
       "      <td>Dr. Stevens has been officially invited to att...</td>\n",
       "      <td>Subject: Invitation: Global Healthcare Symposi...</td>\n",
       "      <td>email_189</td>\n",
       "      <td>Event and Flight Tickets</td>\n",
       "      <td>Healthcare</td>\n",
       "    </tr>\n",
       "  </tbody>\n",
       "</table>\n",
       "<p>187 rows × 6 columns</p>\n",
       "</div>"
      ],
      "text/plain": [
       "                                              question  \\\n",
       "0    What are the details of the event 'Enhancing F...   \n",
       "1    What are the details of the Retail Industry Ro...   \n",
       "2    What are the key updates regarding Project Veg...   \n",
       "3    What are the details of the Q2 Financial Repor...   \n",
       "4    What opportunity is Robert Johnson offering to...   \n",
       "..                                                 ...   \n",
       "182  What recent security threats have been observe...   \n",
       "183  What are the details of the upcoming Global He...   \n",
       "184  What are the details of the conference invitat...   \n",
       "185  What are the details of the invitation extende...   \n",
       "186  What are the key details regarding the 2022 Gl...   \n",
       "\n",
       "                                                answer  \\\n",
       "0    The event 'Enhancing Finance Capabilities in t...   \n",
       "1    The Retail Industry Roundtable Discussion is o...   \n",
       "2    The email provides several key updates on Proj...   \n",
       "3    The Q2 Financial Report Presentation and Analy...   \n",
       "4    Robert Johnson, the Head of Government Relatio...   \n",
       "..                                                 ...   \n",
       "182  According to the email, there has been a notab...   \n",
       "183  The upcoming Global Healthcare Symposium is sc...   \n",
       "184  Dr. Jennifer Harding is invited to the annual ...   \n",
       "185  Dr. Benjamin Harvey has been invited to partic...   \n",
       "186  Dr. Stevens has been officially invited to att...   \n",
       "\n",
       "                                                 email   chunk_id  \\\n",
       "0    Subject: Invitation: Enhancing Finance Capabil...  email_002   \n",
       "1    Subject: Invitation to Retail Industry Roundta...  email_002   \n",
       "2    Subject: Updates on Project Vega: New Features...  email_003   \n",
       "3    Subject: Invitation to Q2 Financial Report Pre...  email_004   \n",
       "4    Subject: Enhancement of Customer Support Servi...  email_005   \n",
       "..                                                 ...        ...   \n",
       "182  Subject: Essential Update: Recent Security Ale...  email_185   \n",
       "183  Subject: Invitation: Upcoming Global Healthcar...  email_186   \n",
       "184  Subject: Inviting You To \"The Future of Educat...  email_187   \n",
       "185  Subject: Invitation to 2022 Healthcare Industr...  email_188   \n",
       "186  Subject: Invitation: Global Healthcare Symposi...  email_189   \n",
       "\n",
       "                        topic    industry  \n",
       "0         Meeting Invitations     Finance  \n",
       "1         Meeting Invitations      Retail  \n",
       "2             Project Updates        Tech  \n",
       "3           Financial Reports  Healthcare  \n",
       "4            Customer Support  Government  \n",
       "..                        ...         ...  \n",
       "182           Security Alerts   Education  \n",
       "183  Event and Flight Tickets  Healthcare  \n",
       "184  Event and Flight Tickets   Education  \n",
       "185  Event and Flight Tickets  Healthcare  \n",
       "186  Event and Flight Tickets  Healthcare  \n",
       "\n",
       "[187 rows x 6 columns]"
      ]
     },
     "execution_count": 68,
     "metadata": {},
     "output_type": "execute_result"
    }
   ],
   "source": [
    "result_df"
   ]
  },
  {
   "cell_type": "code",
   "execution_count": 69,
   "metadata": {
    "application/vnd.databricks.v1+cell": {
     "cellMetadata": {},
     "inputWidgets": {},
     "nuid": "eca136f3-b6dc-41c1-a195-08653ccc349d",
     "showTitle": false,
     "title": ""
    }
   },
   "outputs": [],
   "source": [
    "def add_to_output_df(result_df=pd.DataFrame({})):\n",
    "    \"\"\"\n",
    "    This function adds the records in result_df to the existing records saved at OUTPUT_DF_PATH,\n",
    "    remove the duplicate rows and save the new collection of records back to OUTPUT_DF_PATH.\n",
    "    \"\"\"\n",
    "    if os.path.exists(OUTPUT_DF_PATH):\n",
    "        all_result_df = pd.read_csv(OUTPUT_DF_PATH)\n",
    "    else:\n",
    "        all_result_df = pd.DataFrame({})\n",
    "    all_result_df = (\n",
    "        pd.concat([all_result_df, result_df], ignore_index=True)\n",
    "        .drop_duplicates()\n",
    "        .sort_values(by=[\"email\", \"chunk_id\"])\n",
    "        .reset_index(drop=True)\n",
    "    )\n",
    "    all_result_df.to_csv(OUTPUT_DF_PATH, index=False)\n",
    "    return all_result_df"
   ]
  },
  {
   "cell_type": "code",
   "execution_count": 70,
   "metadata": {
    "application/vnd.databricks.v1+cell": {
     "cellMetadata": {},
     "inputWidgets": {},
     "nuid": "3e43973e-89c5-4ada-9bd6-e61c7ff12ad9",
     "showTitle": false,
     "title": ""
    }
   },
   "outputs": [],
   "source": [
    "all_result_df = add_to_output_df(result_df)"
   ]
  },
  {
   "cell_type": "code",
   "execution_count": 71,
   "metadata": {
    "application/vnd.databricks.v1+cell": {
     "cellMetadata": {},
     "inputWidgets": {},
     "nuid": "ff0c5fbb-4701-493c-a4e8-df0b7a009b46",
     "showTitle": false,
     "title": ""
    }
   },
   "outputs": [
    {
     "data": {
      "text/html": [
       "<div>\n",
       "<style scoped>\n",
       "    .dataframe tbody tr th:only-of-type {\n",
       "        vertical-align: middle;\n",
       "    }\n",
       "\n",
       "    .dataframe tbody tr th {\n",
       "        vertical-align: top;\n",
       "    }\n",
       "\n",
       "    .dataframe thead th {\n",
       "        text-align: right;\n",
       "    }\n",
       "</style>\n",
       "<table border=\"1\" class=\"dataframe\">\n",
       "  <thead>\n",
       "    <tr style=\"text-align: right;\">\n",
       "      <th></th>\n",
       "      <th>question</th>\n",
       "      <th>answer</th>\n",
       "      <th>email</th>\n",
       "      <th>chunk_id</th>\n",
       "      <th>topic</th>\n",
       "      <th>industry</th>\n",
       "    </tr>\n",
       "  </thead>\n",
       "  <tbody>\n",
       "    <tr>\n",
       "      <th>0</th>\n",
       "      <td>What are the details of the Advanced Technical...</td>\n",
       "      <td>The Advanced Technical Training event hosted b...</td>\n",
       "      <td>Subject: Advanced Technical Training on New He...</td>\n",
       "      <td>email_140</td>\n",
       "      <td>Technical Documentation</td>\n",
       "      <td>Healthcare</td>\n",
       "    </tr>\n",
       "    <tr>\n",
       "      <th>1</th>\n",
       "      <td>What are the key details regarding the 2021 Fi...</td>\n",
       "      <td>The email informs Mrs. Patricia Weston about t...</td>\n",
       "      <td>Subject: Analysis of 2021 Financial Reports fo...</td>\n",
       "      <td>email_058</td>\n",
       "      <td>Financial Reports</td>\n",
       "      <td>Education</td>\n",
       "    </tr>\n",
       "    <tr>\n",
       "      <th>2</th>\n",
       "      <td>What are the key details regarding the upcomin...</td>\n",
       "      <td>The upcoming analysis discussion of the Q2 fin...</td>\n",
       "      <td>Subject: Analysis of Q2 Financial Reports: Und...</td>\n",
       "      <td>email_060</td>\n",
       "      <td>Financial Reports</td>\n",
       "      <td>Education</td>\n",
       "    </tr>\n",
       "  </tbody>\n",
       "</table>\n",
       "</div>"
      ],
      "text/plain": [
       "                                            question  \\\n",
       "0  What are the details of the Advanced Technical...   \n",
       "1  What are the key details regarding the 2021 Fi...   \n",
       "2  What are the key details regarding the upcomin...   \n",
       "\n",
       "                                              answer  \\\n",
       "0  The Advanced Technical Training event hosted b...   \n",
       "1  The email informs Mrs. Patricia Weston about t...   \n",
       "2  The upcoming analysis discussion of the Q2 fin...   \n",
       "\n",
       "                                               email   chunk_id  \\\n",
       "0  Subject: Advanced Technical Training on New He...  email_140   \n",
       "1  Subject: Analysis of 2021 Financial Reports fo...  email_058   \n",
       "2  Subject: Analysis of Q2 Financial Reports: Und...  email_060   \n",
       "\n",
       "                     topic    industry  \n",
       "0  Technical Documentation  Healthcare  \n",
       "1        Financial Reports   Education  \n",
       "2        Financial Reports   Education  "
      ]
     },
     "execution_count": 71,
     "metadata": {},
     "output_type": "execute_result"
    }
   ],
   "source": [
    "all_result_df.head(3)"
   ]
  },
  {
   "cell_type": "markdown",
   "metadata": {
    "application/vnd.databricks.v1+cell": {
     "cellMetadata": {},
     "inputWidgets": {},
     "nuid": "03138482-c22e-4e05-ac15-f860544f1d87",
     "showTitle": false,
     "title": ""
    }
   },
   "source": [
    "## Quality Analysis of Questions Generated (Optional)\n",
    "\n",
    "If you would like to compare quality of questions generated across different prompts, we can\n",
    "analyze the quality of questions manually and in aggregate. We want to evaluate questions \n",
    "along two dimensions - their diversity and relevance.\n",
    "\n",
    "https://github.com/mlflow/mlflow/blob/master/examples/llms/question_generation/question_answer_source.csv is a pre-generated dataset with 56 questions. You can download it and specify the path with `OUTPUT_DF_PATH`, and load it to run the rest of the notebook if you want to jump to this section.\n",
    "\n",
    "Note: There isn't a well-defined way to analyze the quality of generated questions, so this is just one approach you can take to gain insight into how diverse and relevant your generated questions are."
   ]
  },
  {
   "cell_type": "code",
   "execution_count": 72,
   "metadata": {
    "application/vnd.databricks.v1+cell": {
     "cellMetadata": {
      "byteLimit": 2048000,
      "rowLimit": 10000
     },
     "inputWidgets": {},
     "nuid": "1be8e728-bfed-4522-8151-5faa9a0c1b92",
     "showTitle": false,
     "title": ""
    }
   },
   "outputs": [],
   "source": [
    "all_result_df = add_to_output_df()"
   ]
  },
  {
   "cell_type": "markdown",
   "metadata": {
    "application/vnd.databricks.v1+cell": {
     "cellMetadata": {},
     "inputWidgets": {},
     "nuid": "03138482-c22e-4e05-ac15-f860544f1d87",
     "showTitle": false,
     "title": ""
    }
   },
   "source": [
    "### Evaluating Diversity of Questions\n",
    "\n",
    "Diversity of questions is important because we want questions to cover the majority of the\n",
    "document content. In addition, we want to be able to evaluate the retriever with different \n",
    "forms of questioning. We want to be able to have harder questions and easier questions. All\n",
    "of these are not straightforward to analyze, and we decided to analyze its through question\n",
    "length and latent space embeddings."
   ]
  },
  {
   "cell_type": "markdown",
   "metadata": {
    "application/vnd.databricks.v1+cell": {
     "cellMetadata": {},
     "inputWidgets": {},
     "nuid": "f9f3e4b3-4988-4570-a687-e762c6bac202",
     "showTitle": false,
     "title": ""
    }
   },
   "source": [
    "#### Length\n",
    "\n",
    "Length gives a sense of how diverse the questions are. Some questions may be wordy while\n",
    "others are straight to the point. It also allows us to identify problems with the question\n",
    "generated."
   ]
  },
  {
   "cell_type": "code",
   "execution_count": 73,
   "metadata": {
    "application/vnd.databricks.v1+cell": {
     "cellMetadata": {},
     "inputWidgets": {},
     "nuid": "5df96390-b4db-4c47-8e80-34d0a1f404a7",
     "showTitle": false,
     "title": ""
    }
   },
   "outputs": [
    {
     "data": {
      "image/png": "[encoded data removed]",
      "text/plain": [
       "<Figure size 640x480 with 1 Axes>"
      ]
     },
     "metadata": {},
     "output_type": "display_data"
    }
   ],
   "source": [
    "# Length\n",
    "questions = all_result_df[\"question\"].to_list()\n",
    "question_len = pd.DataFrame([len(q) for q in questions], columns=[\"length\"])\n",
    "question_len.hist(bins=5)\n",
    "plt.title(\"Histogram of Question Lengths\")\n",
    "plt.xlabel(\"Question Length\")\n",
    "plt.ylabel(\"Frequency\")\n",
    "plt.show()"
   ]
  },
  {
   "cell_type": "markdown",
   "metadata": {
    "application/vnd.databricks.v1+cell": {
     "cellMetadata": {},
     "inputWidgets": {},
     "nuid": "f9f3e4b3-4988-4570-a687-e762c6bac202",
     "showTitle": false,
     "title": ""
    }
   },
   "source": [
    "In addition to visual representation, we also want to look at more concrete percentile values.\n"
   ]
  },
  {
   "cell_type": "code",
   "execution_count": 74,
   "metadata": {
    "application/vnd.databricks.v1+cell": {
     "cellMetadata": {
      "byteLimit": 2048000,
      "rowLimit": 10000
     },
     "inputWidgets": {},
     "nuid": "d31fbb55-0504-4f14-aeb5-5e48912f3275",
     "showTitle": false,
     "title": ""
    }
   },
   "outputs": [
    {
     "name": "stdout",
     "output_type": "stream",
     "text": [
      "p10-p90 range is 42\n"
     ]
    }
   ],
   "source": [
    "# Calculating percentile values\n",
    "p10 = int(question_len[\"length\"].quantile(0.10))\n",
    "p90 = int(question_len[\"length\"].quantile(0.90))\n",
    "print(\"p10-p90 range is\", p90 - p10)"
   ]
  },
  {
   "cell_type": "markdown",
   "metadata": {
    "application/vnd.databricks.v1+cell": {
     "cellMetadata": {},
     "inputWidgets": {},
     "nuid": "9d6f9401-ed13-4a2e-9336-2ae0bc031a5f",
     "showTitle": false,
     "title": ""
    }
   },
   "source": [
    "There are also a couple queries that are longer than normal. However, these seem fine."
   ]
  },
  {
   "cell_type": "code",
   "execution_count": 75,
   "metadata": {
    "application/vnd.databricks.v1+cell": {
     "cellMetadata": {
      "byteLimit": 2048000,
      "rowLimit": 10000
     },
     "inputWidgets": {},
     "nuid": "40808ff8-d227-427a-89ae-beeac614dfa0",
     "showTitle": false,
     "title": ""
    }
   },
   "outputs": [
    {
     "data": {
      "text/plain": [
       "['What are the key details regarding the 2021 Financial Reports analysis for the Education Industry mentioned in the email?',\n",
       " 'What are the key details regarding the upcoming analysis discussion of the Q2 financial reports in the education industry?',\n",
       " 'What new features are being introduced in the EduTech Customer Support platform to enhance the education experience?',\n",
       " 'What are the key updates and next steps regarding the Azure Innovations project as mentioned in the email?',\n",
       " 'What innovative marketing strategies is MedHealth Innovations proposing to enhance patient engagement?',\n",
       " \"What marketing strategies does Inteli-Edu Solutions propose to enhance the University of Prestige's enrollment and student success?\",\n",
       " 'What are the key details regarding the upcoming marketing campaigns in the Tech industry mentioned in the email?',\n",
       " 'What key insights does the financial report from Medico Health Solutions provide regarding the healthcare industry?',\n",
       " 'What are the key insights shared in the email regarding technical documentation in the healthcare industry?',\n",
       " 'What are the key details regarding the upcoming webinar on safeguarding digital platforms in education mentioned in the email?',\n",
       " 'What recent improvements and upcoming events regarding customer support services are mentioned in the email from Charles Stewart?',\n",
       " 'What are the current updates and key information regarding the Public Infrastructure Revitalization Project as mentioned in the email?',\n",
       " 'What marketing strategies does EdTech Innovations propose for Anderson University, and what are the details of the meeting invitation?',\n",
       " 'What are the details of the new training program for customer service in the healthcare industry mentioned in the email?',\n",
       " 'What services does Elliot Management Solutions offer to improve customer support at Davidson Supermarkets?',\n",
       " 'What are the key details regarding the presentation on Technical Documentation in healthcare mentioned in the email?',\n",
       " 'What are the key details regarding the planned upgrade to the customer support system at the Department of Social Services?',\n",
       " 'What are the details of the upcoming training session on enhancing patient experience mentioned in the email?',\n",
       " 'What new customer support services is EdTech Solutions Inc. introducing for educational institutions?',\n",
       " 'What marketing campaign opportunities does Dynamic Marketing Solutions propose for the tech industry?',\n",
       " \"What are the details of the 'Bridging Budgets: Bringing Financial Stability' conference mentioned in the email?\",\n",
       " \"What are the details and purpose of the upcoming webinar titled 'The Future of Healthcare Sales Pitch Strategies'?\",\n",
       " 'What are the details of the exclusive Masterclass on Advanced Retail Sales Pitches mentioned in the email?',\n",
       " \"What are the details of the conference titled 'Amplifying Sales Through Effective Pitches' mentioned in the email?\",\n",
       " \"What are the details and purpose of the 'Retail Evolution Summit 2022' invitation extended to Ms. Claire Sanders?\",\n",
       " 'What are the key details regarding the AI Revolution in Tech Industry Summit 2022 mentioned in the email?',\n",
       " \"What are the details of the event 'Mastering High-Impact Sales Pitches in Finance' mentioned in the email?\",\n",
       " \"What are the details of the 'Future of Finance: Bridging Technology & Investment' conference mentioned in the email?\",\n",
       " \"What are the key details of the 'Transforming Retail - Strategy and Innovation Summit' mentioned in the email?\",\n",
       " \"What are the details and objectives of the workshop titled 'Exclusive Strategies Reshaping Marketing Campaigns for the Government Sector'?\",\n",
       " 'What are the key details regarding the recent security threats and the upcoming seminar mentioned in the email?',\n",
       " 'What marketing strategies does Linda Harrison propose for promoting Clearwater Higher Education Institute?',\n",
       " 'What are the key details regarding the upcoming webinar on cybersecurity threats in the education sector mentioned in the email?',\n",
       " 'What are the key details regarding the cybersecurity threats and the upcoming webinar mentioned in the email?',\n",
       " 'What are the key updates to the customer support services for the education platform mentioned in the email?',\n",
       " 'What recent security threats in the finance industry are highlighted in the email, and what actions are being recommended?',\n",
       " 'What are the details and objectives of the Education Industry Financial Reports Roundtable scheduled for June 23?',\n",
       " 'What recent cybersecurity threats and alerts are relevant to the healthcare industry as mentioned in the email?',\n",
       " \"What are the details and objectives of the workshop titled 'Integrating Technological Advancements in Education'?\",\n",
       " 'What are the key details about the marketing campaigns and the upcoming webinar mentioned in the email?',\n",
       " 'What are the details of the exclusive seminar on advancing healthcare through technical documentation mentioned in the email?',\n",
       " 'What are the details of the invitation extended to Dr. Benjamin Harvey for the 2022 Healthcare Industry Symposium?',\n",
       " 'What are the details of the meeting to discuss the recent government financial reports mentioned in the email?',\n",
       " \"What are the details of the 'Sales Pitches: Retail Industry Edition' workshop mentioned in the email?\",\n",
       " 'What are the details of the upcoming workshop on sales pitches for the tech industry mentioned in the email?',\n",
       " 'What are the details of the upcoming workshop on technical documentation for the Government industry mentioned in the email?',\n",
       " 'What are the details of the upcoming TechTrends Technical Documentation Workshop mentioned in the email?',\n",
       " 'What are the details of the upcoming webinar on Q1 Financial Reports Overview & Analysis focused on the tech industry?',\n",
       " 'What are the details of the Q2 Financial Report Presentation and Analysis event mentioned in the email?',\n",
       " \"What are the details of the Quarterly Financial Review Meeting on the Healthcare Industry's Performance mentioned in the email?\",\n",
       " 'What are the details of the Annual Financial Reports Review for the Education Sector mentioned in the email?',\n",
       " 'What are the details and significance of the Annual Government Leadership Summit mentioned in the email?',\n",
       " 'What are the details of the Government Transparency and Efficiency Conference mentioned in the email?',\n",
       " 'What are the details and significance of the National Government Symposium on Public Policy Reform mentioned in the email?',\n",
       " \"What are the details of the event 'Enhancing Finance Capabilities in the Digital Economy' mentioned in the email?\",\n",
       " 'What are the key details regarding the 2022 Global Healthcare Symposium invitation and travel arrangements for Dr. Stevens?',\n",
       " 'What recent cybersecurity threats are specifically targeting the healthcare industry, as mentioned in the email?',\n",
       " 'What are the key details regarding the latest technical documentation update for ABC Retail Corporation?',\n",
       " 'What are the details and purpose of the Mastering Retail Sales Pitches workshop mentioned in the email?',\n",
       " 'What are the key features and benefits of the new customer support solutions offered by HealthServe Solutions for the healthcare industry?',\n",
       " 'What are the key details regarding the new technical documentation and the associated workshop mentioned in the email?',\n",
       " 'What is the current status and future plans for the Enhanced Learning Module Development Project as detailed in the email?',\n",
       " \"What is the current status and upcoming plans for the 'Pathway to Progress' initiative in Centerville School District?\",\n",
       " 'What details are provided about the upcoming release of the updated Technical Documentation for the retail sector?',\n",
       " \"What insights does John Preston provide regarding the retail industry's financial performance for Q2?\",\n",
       " 'What key insights does the Q3 financial report provide regarding the government industry, and what is the purpose of the upcoming meeting?',\n",
       " \"What are the details of the seminar on 'Sales Pitches in a Volatile Financial Market' mentioned in the email?\",\n",
       " 'What are the key updates and details regarding the Project Health Future initiative mentioned in the email?',\n",
       " 'What marketing solutions does MedMark Solutions offer for the healthcare industry, and what is the upcoming event they are promoting?',\n",
       " 'What recent cybersecurity threats are highlighted in the email and what precautions are recommended for Hudson Technologies?',\n",
       " \"What are the details and purpose of the 'Unlock the Power of Technology: A Sales Pitch Masterclass' event mentioned in the email?\",\n",
       " 'What innovative marketing campaigns is Enlighten Education Solutions introducing to Dr. Linda Raymond, and how do they aim to impact educational institutions?',\n",
       " \"What are the details of the upcoming webinar titled 'Decoding Financial Reports in the Healthcare Industry'?\",\n",
       " \"What are the key updates and next steps regarding the project 'Educate Tomorrow' as mentioned in the email?\",\n",
       " 'What are the key updates regarding the Future Frontier Finance Project Phase II as mentioned in the email?',\n",
       " 'What are the key details regarding the recent cyber threats and the upcoming webinar mentioned in the email?',\n",
       " 'What critical security alerts are currently affecting the healthcare sector as mentioned in the email?',\n",
       " 'What are the key security risks identified in the email and what mitigation steps are proposed by CyberSafe Solutions?',\n",
       " 'What is the current status and upcoming plans for the VanBridge Public Service Project as detailed in the email?',\n",
       " 'What are the key details regarding the cybersecurity threats and the upcoming webinar mentioned in the email?']"
      ]
     },
     "execution_count": 75,
     "metadata": {},
     "output_type": "execute_result"
    }
   ],
   "source": [
    "[q for q in questions if len(q) > 100]"
   ]
  },
  {
   "cell_type": "markdown",
   "metadata": {
    "application/vnd.databricks.v1+cell": {
     "cellMetadata": {},
     "inputWidgets": {},
     "nuid": "37cc6a27-434b-47b5-906a-b8b0f42e8fc8",
     "showTitle": false,
     "title": ""
    }
   },
   "source": [
    "#### Latent Space\n",
    "\n",
    "Latent space embeddings contain semantic information about the question. This can be used to \n",
    "evaluate the diversity and the difference between two questions semantically. To do so, we will need to map the\n",
    "high dimensional space to a lower dimensional space. We utilize PCA and TSNE to map the embeddings \n",
    "into a 2-dimensional space for visualization."
   ]
  },
  {
   "cell_type": "markdown",
   "metadata": {
    "application/vnd.databricks.v1+cell": {
     "cellMetadata": {},
     "inputWidgets": {},
     "nuid": "0f056942-595a-46d1-9b69-c5efa08aa5f3",
     "showTitle": false,
     "title": ""
    }
   },
   "source": [
    "We append 5 benchmark queries to help visualize how diverse the questions are. The first four of these questions are semantically similar and all asking about MLflow, while the last is different and asks about RAG."
   ]
  },
  {
   "cell_type": "code",
   "execution_count": 76,
   "metadata": {
    "application/vnd.databricks.v1+cell": {
     "cellMetadata": {},
     "inputWidgets": {},
     "nuid": "e6c43c4e-2b9a-4071-bce8-be87c2484383",
     "showTitle": false,
     "title": ""
    }
   },
   "outputs": [],
   "source": [
    "benchmark_questions = [\n",
    "    'What services does Elliot Management Solutions offer to improve customer support at Davidson Supermarkets?',\n",
    "    'What are the details of the exclusive Masterclass on Advanced Retail Sales Pitches mentioned in the email?',\n",
    "    \"What are the details of the conference titled 'Amplifying Sales Through Effective Pitches' mentioned in the email?\",\n",
    "    \"What are the details and purpose of the 'Retail Evolution Summit 2022' invitation extended to Ms. Claire Sanders?\",\n",
    "    \"What are the key details of the 'Transforming Retail - Strategy and Innovation Summit' mentioned in the email?\",\n",
    "    \"What are the details of the 'Sales Pitches: Retail Industry Edition' workshop mentioned in the email?\",\n",
    "    'What are the key details regarding the latest technical documentation update for ABC Retail Corporation?',\n",
    "    'What are the details and purpose of the Mastering Retail Sales Pitches workshop mentioned in the email?',\n",
    "    'What details are provided about the upcoming release of the updated Technical Documentation for the retail sector?',\n",
    "    \"What insights does John Preston provide regarding the retail industry's financial performance for Q2?\"\n",
    "]\n",
    "questions_to_embed = questions + benchmark_questions"
   ]
  },
  {
   "cell_type": "markdown",
   "metadata": {
    "application/vnd.databricks.v1+cell": {
     "cellMetadata": {},
     "inputWidgets": {},
     "nuid": "0f056942-595a-46d1-9b69-c5efa08aa5f3",
     "showTitle": false,
     "title": ""
    }
   },
   "source": [
    "We apply PCA to reduce the embedding dimensions to 10 before applying TSNE to reduce it to 2 dimensions, as recommended by sklearn due to the computational complexity of TSNE."
   ]
  },
  {
   "cell_type": "code",
   "execution_count": 77,
   "metadata": {
    "application/vnd.databricks.v1+cell": {
     "cellMetadata": {
      "byteLimit": 2048000,
      "rowLimit": 10000
     },
     "inputWidgets": {},
     "nuid": "5c9aa32e-8168-417d-89f1-5fdf65e91491",
     "showTitle": false,
     "title": ""
    }
   },
   "outputs": [],
   "source": [
    "# Apply embeddings\n",
    "embeddings = OpenAIEmbeddings(model=\"text-embedding-3-small\")\n",
    "question_embeddings = embeddings.embed_documents(questions)\n"
   ]
  },
  {
   "cell_type": "code",
   "execution_count": 78,
   "metadata": {},
   "outputs": [],
   "source": [
    "# PCA on embeddings to reduce to 10-dim\n",
    "pca = PCA(n_components=10, random_state=SEED)\n",
    "question_embeddings_reduced = pca.fit_transform(question_embeddings)\n",
    "# TSNE on embeddings to reduce to 2-dim\n",
    "tsne = TSNE(n_components=2, perplexity=10, max_iter=1000, random_state=SEED)\n",
    "lower_dim_embeddings = tsne.fit_transform(question_embeddings_reduced)"
   ]
  },
  {
   "cell_type": "markdown",
   "metadata": {
    "application/vnd.databricks.v1+cell": {
     "cellMetadata": {},
     "inputWidgets": {},
     "nuid": "3c772b11-337b-4d0e-99f3-86a79158c686",
     "showTitle": false,
     "title": ""
    }
   },
   "source": [
    "Now that we have 2-dimensional embeddings representing the semantics of the question, we can visualize it with a scatter plot, differentiating the generated questions and the benchmark questions."
   ]
  },
  {
   "cell_type": "code",
   "execution_count": 79,
   "metadata": {
    "application/vnd.databricks.v1+cell": {
     "cellMetadata": {
      "byteLimit": 2048000,
      "rowLimit": 10000
     },
     "inputWidgets": {},
     "nuid": "ea3260ed-c69a-4de1-901d-7855554e4e1b",
     "showTitle": false,
     "title": ""
    }
   },
   "outputs": [
    {
     "data": {
      "text/plain": [
       "<Axes: xlabel='x', ylabel='y'>"
      ]
     },
     "execution_count": 79,
     "metadata": {},
     "output_type": "execute_result"
    },
    {
     "data": {
      "image/png": "[encoded data removed]",
      "text/plain": [
       "<Figure size 640x480 with 1 Axes>"
      ]
     },
     "metadata": {},
     "output_type": "display_data"
    }
   ],
   "source": [
    "labels = np.concatenate(\n",
    "    [\n",
    "        np.full(len(lower_dim_embeddings) - len(benchmark_questions), \"generated\"),\n",
    "        np.full(len(benchmark_questions), \"benchmark\"),\n",
    "    ]\n",
    ")\n",
    "data = pd.DataFrame(\n",
    "    {\"x\": lower_dim_embeddings[:, 0], \"y\": lower_dim_embeddings[:, 1], \"label\": labels}\n",
    ")\n",
    "sns.scatterplot(data=data, x=\"x\", y=\"y\", hue=\"label\")"
   ]
  },
  {
   "cell_type": "markdown",
   "metadata": {
    "application/vnd.databricks.v1+cell": {
     "cellMetadata": {},
     "inputWidgets": {},
     "nuid": "44cc8950-679d-4d65-ad43-0c18cd46c8bc",
     "showTitle": false,
     "title": ""
    }
   },
   "source": [
    "Observe that within the orange points on the scatter plot, there is one point that is further than the others. That is the unique benchmark question about RAG. This plot gives a sense of the diversity of the questions generated."
   ]
  },
  {
   "cell_type": "markdown",
   "metadata": {
    "application/vnd.databricks.v1+cell": {
     "cellMetadata": {},
     "inputWidgets": {},
     "nuid": "927a179b-1cf0-49fe-a195-34182d7f4fd1",
     "showTitle": false,
     "title": ""
    }
   },
   "source": [
    "### Evaluate Document Relevance\n",
    "\n",
    "Another important axis to consider is how relevant the questions are to the document we provided. We want to understand whether the questions generated by the LLM is actually referring to our provided text, or whether it is hallucinating irrelevant questions. We will evaluate relevance by first manually checking certain questions against their document chunk. Then, we define a measure of relevance to analyze it quantitatively."
   ]
  },
  {
   "cell_type": "markdown",
   "metadata": {
    "application/vnd.databricks.v1+cell": {
     "cellMetadata": {},
     "inputWidgets": {},
     "nuid": "3a2c0588-8695-4703-a4fd-d7f53e463ce8",
     "showTitle": false,
     "title": ""
    }
   },
   "source": [
    "#### Manual Checking of Document Relevance\n",
    "\n",
    "Manual qualitative check of whether the questions are relevant to the document."
   ]
  },
  {
   "cell_type": "code",
   "execution_count": 80,
   "metadata": {
    "application/vnd.databricks.v1+cell": {
     "cellMetadata": {},
     "inputWidgets": {},
     "nuid": "927a179b-1cf0-49fe-a195-34182d7f4fd1",
     "showTitle": false,
     "title": ""
    }
   },
   "outputs": [
    {
     "data": {
      "text/html": [
       "<div>\n",
       "<style scoped>\n",
       "    .dataframe tbody tr th:only-of-type {\n",
       "        vertical-align: middle;\n",
       "    }\n",
       "\n",
       "    .dataframe tbody tr th {\n",
       "        vertical-align: top;\n",
       "    }\n",
       "\n",
       "    .dataframe thead th {\n",
       "        text-align: right;\n",
       "    }\n",
       "</style>\n",
       "<table border=\"1\" class=\"dataframe\">\n",
       "  <thead>\n",
       "    <tr style=\"text-align: right;\">\n",
       "      <th></th>\n",
       "      <th>question</th>\n",
       "      <th>answer</th>\n",
       "      <th>email</th>\n",
       "      <th>chunk_id</th>\n",
       "      <th>topic</th>\n",
       "      <th>industry</th>\n",
       "    </tr>\n",
       "  </thead>\n",
       "  <tbody>\n",
       "    <tr>\n",
       "      <th>103</th>\n",
       "      <td>What are the key details regarding the Future ...</td>\n",
       "      <td>The Future of Retail Symposium is scheduled fo...</td>\n",
       "      <td>Subject: Invitation to The Future of Retail Sy...</td>\n",
       "      <td>email_163</td>\n",
       "      <td>Event Invitations</td>\n",
       "      <td>Retail</td>\n",
       "    </tr>\n",
       "    <tr>\n",
       "      <th>61</th>\n",
       "      <td>What are the key details regarding the cyberse...</td>\n",
       "      <td>The email from Dr. Katherine Wright, the Senio...</td>\n",
       "      <td>Subject: Important Security Alerts Pertaining ...</td>\n",
       "      <td>email_171</td>\n",
       "      <td>Security Alerts</td>\n",
       "      <td>Government</td>\n",
       "    </tr>\n",
       "    <tr>\n",
       "      <th>35</th>\n",
       "      <td>What recent security threats have been observe...</td>\n",
       "      <td>According to the email, there has been a notab...</td>\n",
       "      <td>Subject: Essential Update: Recent Security Ale...</td>\n",
       "      <td>email_185</td>\n",
       "      <td>Security Alerts</td>\n",
       "      <td>Education</td>\n",
       "    </tr>\n",
       "  </tbody>\n",
       "</table>\n",
       "</div>"
      ],
      "text/plain": [
       "                                              question  \\\n",
       "103  What are the key details regarding the Future ...   \n",
       "61   What are the key details regarding the cyberse...   \n",
       "35   What recent security threats have been observe...   \n",
       "\n",
       "                                                answer  \\\n",
       "103  The Future of Retail Symposium is scheduled fo...   \n",
       "61   The email from Dr. Katherine Wright, the Senio...   \n",
       "35   According to the email, there has been a notab...   \n",
       "\n",
       "                                                 email   chunk_id  \\\n",
       "103  Subject: Invitation to The Future of Retail Sy...  email_163   \n",
       "61   Subject: Important Security Alerts Pertaining ...  email_171   \n",
       "35   Subject: Essential Update: Recent Security Ale...  email_185   \n",
       "\n",
       "                 topic    industry  \n",
       "103  Event Invitations      Retail  \n",
       "61     Security Alerts  Government  \n",
       "35     Security Alerts   Education  "
      ]
     },
     "execution_count": 80,
     "metadata": {},
     "output_type": "execute_result"
    }
   ],
   "source": [
    "all_result_df.sample(3)"
   ]
  },
  {
   "cell_type": "markdown",
   "metadata": {},
   "source": [
    "#### Embeddings Cosine Similarity\n",
    "\n",
    "The embedding of the chunk and query is placed in the same latent space, and the retriever model would extract similar chunk embeddings to a query embedding. Hence, relevance for the retriever is defined by the distance of embeddings in this latent space.\n",
    "\n",
    "Cosine similarity is a measure of vector similarity, and can be used to determine the distance of embeddings between the chunk and the query. It is a distance metric that approaches 1 when the question and chunk are similar, and becomes 0 when they are different.\n",
    "\n",
    "We can use the cosine similarity score directly to measure the relevancy."
   ]
  },
  {
   "cell_type": "code",
   "execution_count": 81,
   "metadata": {},
   "outputs": [
    {
     "name": "stdout",
     "output_type": "stream",
     "text": [
      "Loaded from cache\n",
      "Loaded from cache\n",
      "Loaded from cache\n",
      "Loaded from cache\n",
      "Loaded from cache\n",
      "Loaded from cache\n",
      "Loaded from cache\n",
      "Loaded from cache\n",
      "Loaded from cache\n",
      "Loaded from cache\n",
      "Loaded from cache\n",
      "Loaded from cache\n",
      "Loaded from cache\n",
      "Loaded from cache\n",
      "Loaded from cache\n",
      "Loaded from cache\n",
      "Loaded from cache\n",
      "Loaded from cache\n",
      "Loaded from cache\n",
      "Loaded from cache\n",
      "Loaded from cache\n",
      "Loaded from cache\n",
      "Loaded from cache\n",
      "Loaded from cache\n",
      "Loaded from cache\n",
      "Loaded from cache\n",
      "Loaded from cache\n",
      "Loaded from cache\n",
      "Loaded from cache\n",
      "Loaded from cache\n",
      "Loaded from cache\n",
      "Loaded from cache\n",
      "Loaded from cache\n",
      "Loaded from cache\n",
      "Loaded from cache\n",
      "Loaded from cache\n",
      "Loaded from cache\n",
      "Loaded from cache\n",
      "Loaded from cache\n",
      "Loaded from cache\n",
      "Loaded from cache\n",
      "Loaded from cache\n",
      "Loaded from cache\n",
      "Loaded from cache\n",
      "Loaded from cache\n",
      "Loaded from cache\n",
      "Loaded from cache\n",
      "Loaded from cache\n",
      "Loaded from cache\n",
      "Loaded from cache\n",
      "Loaded from cache\n",
      "Loaded from cache\n",
      "Loaded from cache\n",
      "Loaded from cache\n",
      "Loaded from cache\n",
      "Loaded from cache\n",
      "Loaded from cache\n",
      "Loaded from cache\n",
      "Loaded from cache\n"
     ]
    }
   ],
   "source": [
    "embedded_queries = all_result_df.copy()\n",
    "embedded_queries[\"chunk_emb\"] = all_result_df[\"email\"].apply(\n",
    "    lambda x: np.squeeze(cached_langchain_openai_embeddings(chunk=x, cache=embeddings_cache))\n",
    ")\n",
    "embedded_queries[\"question_emb\"] = all_result_df[\"question\"].apply(\n",
    "    lambda x: np.squeeze(cached_langchain_openai_embeddings(chunk=x, cache=embeddings_cache))\n",
    ")"
   ]
  },
  {
   "cell_type": "code",
   "execution_count": 82,
   "metadata": {
    "application/vnd.databricks.v1+cell": {
     "cellMetadata": {
      "byteLimit": 2048000,
      "rowLimit": 10000
     },
     "inputWidgets": {},
     "nuid": "51196872-7bde-46a6-9169-49126dd374b3",
     "showTitle": false,
     "title": ""
    }
   },
   "outputs": [],
   "source": [
    "def cossim(x, y):\n",
    "    return np.dot(x, y) / (np.linalg.norm(x) * np.linalg.norm(y))\n",
    "\n",
    "\n",
    "embedded_queries[\"cossim\"] = embedded_queries.apply(\n",
    "    lambda row: cossim(row[\"question_emb\"], row[\"chunk_emb\"]), axis=1\n",
    ")"
   ]
  },
  {
   "cell_type": "markdown",
   "metadata": {
    "application/vnd.databricks.v1+cell": {
     "cellMetadata": {},
     "inputWidgets": {},
     "nuid": "ff7ea2dd-252f-45f4-b50b-951ecdb45f03",
     "showTitle": false,
     "title": ""
    }
   },
   "source": [
    "After we score each question by its relative relevancy, we can evaluate the generated questions as a whole."
   ]
  },
  {
   "cell_type": "code",
   "execution_count": 83,
   "metadata": {
    "application/vnd.databricks.v1+cell": {
     "cellMetadata": {
      "byteLimit": 2048000,
      "rowLimit": 10000
     },
     "inputWidgets": {},
     "nuid": "972da253-3fa2-490f-9712-ecfcc8630463",
     "showTitle": false,
     "title": ""
    }
   },
   "outputs": [
    {
     "data": {
      "text/plain": [
       "(array([  3.,  12.,  24., 110.,  38.]),\n",
       " array([0.36945938, 0.4539184 , 0.53837741, 0.62283643, 0.70729544,\n",
       "        0.79175446]),\n",
       " <BarContainer object of 5 artists>)"
      ]
     },
     "execution_count": 83,
     "metadata": {},
     "output_type": "execute_result"
    },
    {
     "data": {
      "image/png": "[encoded data removed]",
      "text/plain": [
       "<Figure size 640x480 with 1 Axes>"
      ]
     },
     "metadata": {},
     "output_type": "display_data"
    }
   ],
   "source": [
    "scores = embedded_queries[\"cossim\"].to_list()\n",
    "plt.hist(scores, bins=5)"
   ]
  },
  {
   "cell_type": "markdown",
   "metadata": {
    "application/vnd.databricks.v1+cell": {
     "cellMetadata": {},
     "inputWidgets": {},
     "nuid": "ff7ea2dd-252f-45f4-b50b-951ecdb45f03",
     "showTitle": false,
     "title": ""
    }
   },
   "source": [
    "There are a couple lower scores. Let's take a look at them."
   ]
  },
  {
   "cell_type": "code",
   "execution_count": 84,
   "metadata": {
    "application/vnd.databricks.v1+cell": {
     "cellMetadata": {
      "byteLimit": 2048000,
      "rowLimit": 10000
     },
     "inputWidgets": {},
     "nuid": "410503c4-49a8-44d0-88ea-2f2075534a36",
     "showTitle": false,
     "title": ""
    }
   },
   "outputs": [
    {
     "name": "stdout",
     "output_type": "stream",
     "text": [
      "Question: 5\n",
      "What are the details and purpose of the upcoming webinar mentioned in the email?\n",
      "Chunk:\n",
      "Subject: Boost Your Bottom Line: Innovative Marketing Strategies for Retail <br><br>Dear Margaret Thompson,<br><br>I hope this email finds you well. My name is James Roberts and I am the Head of Business Development here at Marketing Dynamics, a reputable marketing agency renowned for delivering transformative results to clients across a variety of sectors including retail.<br><br>In light of recent trends and transformations in the retail industry, we are hosting an exclusive webinar on Thursday, 14th of April, at 10:00 a.m. EDT titled “Sales Uplift: Innovative Marketing Strategies for Retail.” This is designed to equip businesses like yours with insights into successful marketing campaigns that can amplify your retail sales, increase brand visibility, and enhance customer loyalty.<br><br>The session will be led by the esteemed Ms. Linda Davis, our Lead Marketing Strategist, who has a proven track record of architecting campaigns that have significantly boosted the profit margins of our retail based clients. During the webinar, Linda will share her insights on how retailers can adapt to changing customer behaviors, leverage data-driven strategies, and maximize the use of digital channels for effective customer outreach.<br><br>The interactive session will also provide ample time for Q&A, giving you the opportunity to engage directly with Ms. Davis and to discuss your specific business challenges or concerns. To secure your spot, kindly confirm your participation by RSVPing before close of business on Monday, 11th of April. <br><br>We are extremely confident that this complimentary session will provide you with beneficial insights that could essentially reinvigorate your current marketing campaigns. Please do not hesitate to reach out if you require any further information regarding this upcoming webinar. <br><br>Looking forward to your participation on the day.<br><br>Best Regards,<br><br>James Roberts<br>Head of Business Development<br>Marketing Dynamics <br>Contact: (123) 456-7890<br>Email: JRoberts@MarketingDynamics.com\n",
      "cossim:\n",
      "0.44468729481637825\n",
      "Question: 18\n",
      "What opportunity is Robert Johnson offering to Ms. Linda Stevens in the email?\n",
      "Chunk:\n",
      "Subject: Enhancement of Customer Support Services for Government Agencies<br><br>Dear Ms. Linda Stevens,<br><br>I hope this message finds you well. My name is Robert Johnson, Head of Government Relations at Reliable Customer Support, and I am reaching out to you with an opportunity to enhance your customer service experience.<br><br>In our current digital age, ensuring consistent, accurate, and efficient customer service is vitally important for all organizations. For government agencies, providing outstanding service is a fundamental responsibility to the public. With this in mind, our team at Reliable Customer Support has developed effective, dedicated support solutions specifically tailored for the government sector.<br><br>Our customized package includes state-of-the-art software solutions, dedicated support teams well-versed in protocol and handling classified information, and comprehensive crisis management services. We also offer advanced technical support, vital in these times when remote work structures are becoming increasingly common. These services have been meticulously designed to accommodate the transformative needs of modern-day government operations.<br><br>As a proud partner of numerous esteemed government agencies, we would be delighted to schedule a meeting with your team to demonstrate how our solutions could benefit your organization. I kindly suggest meeting on the 19th of July at 3:00 pm at our head office, but I am open to any other convenient time and location for you.<br><br>I hope we have the opportunity to contribute towards enhancing your customer service solutions and look forward to your positive response. Please confirm your availability by the 10th of July so we can arrange the details accordingly.<br><br>Best regards,<br><br>Robert Johnson<br>Head of Government Relations<br>Reliable Customer Support\n",
      "cossim:\n",
      "0.5208671201097015\n",
      "Question: 24\n",
      "What are the key details regarding the upcoming town hall meeting mentioned in the email?\n",
      "Chunk:\n",
      "Subject: Enhancing Customer Support for Public Services <br><br>Dear Timothy White,<br><br>I hope this email finds you well. I am writing to discuss a matter that is of utmost importance to the strengthening of our government community - providing exemplary customer support to our constituents.<br><br>In recent times, we have been made aware that the quality of customer support in public services has prompted a series of inquiries into the effectiveness of our existing approach. At Central Government Operations, we are committed to delivering a user experience that is responsive, empathetic, and efficient. As part of our ongoing effort to improve customer service, we have decided to invest in advanced customer support technology such as AI-driven chatbots and automation tools. Additionally, we are implementing robust training programs for our employees to equip them with the necessary skills to deliver superior support across all public service sectors.<br><br>In line with this, we would like to invite you to attend an upcoming town hall meeting scheduled for June 1, 2023, at the City Hall Auditorium. The meeting will focus on unveiling our new customer service strategy and discussing the potential benefits and challenges. The conversation will also revolve around ways we can work collaboratively to ensure the success of these initiatives. We believe that your insights and suggestions will be invaluable in helping us secure the effectiveness of our customer support transformation.<br><br>Please confirm your attendance by May 20, 2023. In case you are unable to attend, we would appreciate it if you could delegate someone from your office to represent you at this crucial meeting. <br><br>Thank you for your time. We are looking forward to working closely together for the betterment of public service delivery.<br><br>Best regards,<br><br>John Smith <br>Director, Customer Relations<br>Central Government Operations.\n",
      "cossim:\n",
      "0.47892646941675104\n",
      "Question: 29\n",
      "What proposal is Susan Collins making to Mr. Jeffrey Anderson in her email?\n",
      "Chunk:\n",
      "Subject: Enhancing Our Government Customer Support Solutions Proposal<br><br>Dear Mr. Jeffrey Anderson,<br><br>I trust this email finds you well. My name is Susan Collins, the Director of Client Relations at GovTech Solutions. I am reaching out in respect to our previous conversation about potential improvements and upgrades to your department's customer support software.<br><br>Our team at GovTech has developed a state-of-the-art support software specifically tailored for government agencies. Our program includes a user-friendly interface, real-time analysis of customer support engagements, efficient data management, and a dedicated AI support feature to deal with multiple enquiries simultaneously. Our in-depth research and expert team have engineered this solution, keeping in mind the unique needs of government departments like yours, ensuring transparency, accountability, and responsiveness to the public's needs.<br><br>I propose arranging a virtual meeting on October 25th at 11:00 AM EST to provide a detailed demo of our solution and discuss how we can tailor this program to your specific needs. This meeting could also provide an excellent opportunity to answer any queries you might have and explore potential collaboration moving forward. Please kindly let us know your availability by October 22nd, so we can schedule this at the most convenient time for you. <br><br>Thank you in advance for considering this proposal. We are genuinely excited about the possibility of contributing positively to your department's operation and overall improvement in rendering customer support services. Your satisfaction remains our topmost priority, and we are fully committed to providing you with software solutions that truly meet your needs.<br><br>Best regards,<br>Susan Collins<br>Director of Client Relations, GovTech Solutions\n",
      "cossim:\n",
      "0.4627127008752591\n",
      "Question: 31\n",
      "What opportunity is being proposed in the email from Jennifer Lawrence to Susan Thompson?\n",
      "Chunk:\n",
      "Subject: Enhancing Student Engagement Through Innovative Marketing Campaigns<br><br>Dear Susan Thompson,<br><br>I trust this email finds you well. As the Marketing Director of EduCom Innovation, I am reaching out to you with an invigorating opportunity to collaborate on improving the outreach strategies of your esteemed institution, Thompson Technical College.<br><br>EduCom Innovation has been instrumental in creating dynamic and strategic educational marketing campaigns nationwide. We specialize in deploying innovative tactics to increase student enrollment, brand visibility, and participation rates for institutions dedicated to further education. Understanding your mission to provide quality yet accessible technical education, we believe that our services could align well to optimize your current and future promotional efforts.<br><br>Our proposed collaboration will help you reach a wider audience while strengthening your connection with existing students. We will share our marketing expertise to arrange targeted social media campaigns, virtual college fairs, and email marketing strategies tailored to fit your unique institutional goals and challenges. By fusing technology with our profound understanding of the education landscape, we can collectively make strides in advancing your institution's resonance in the technical education sector.<br><br>To discuss this potential partnership further, I suggest we convene for a virtual meeting on April 7th, 2022, at 3 PM. We would love to provide a detailed presentation and answer any questions you may have about our successful campaigns in the education field and how we can tailor these for your specific needs. Please confirm your availability for this proposed date and time or suggest alternatives suitable for your schedule.<br><br>Thank you for considering this proposition. We are excited about the possibility of helping Thompson Technical College navigate through this fast-paced digital era with carefully crafted, impact-driven marketing campaigns.<br><br>Best regards,<br><br>Jennifer Lawrence<br>Marketing Director <br>EduCom Innovation\n",
      "cossim:\n",
      "0.5151622345058107\n",
      "Question: 33\n",
      "What is the purpose of Mark Thompson's email to Rebecca Jenson?\n",
      "Chunk:\n",
      "Subject: Enhancing the Quality of our Tech Support Services: Your Feedback is Needed<br><br>Dear Rebecca Jenson,<br><br>I hope this email finds you well. My name is Mark Thompson, and I am the Senior Customer Support Manager at TechnoBrains Inc. Over the years, our promise of delivering cutting-edge technological solutions has been solidified by clients who value our quality of service. In a bid to continuously enhance our tech support services, we are reaching out to valuable clients like you to get your insights, impressions, and experiences.<br><br>Having used our products and services, we believe your perspective will be vital in helping us identify areas where adjustments may be needed, hence fostering our overall improvement. Could you kindly spare a few moments to fill out a brief survey? The questionnaire, which will be shared with you as per your confirmation, has been designed to capture specifics of your experiences with our tech support team, evaluates our response time, quality of assistance, and overall satisfaction.<br><br>Your feedback will provide us crucial information on how to fine-tune our services and ensure that we meet and exceed client expectations. Be assured that your responses will be strictly used for service improvement purposes and treated with utmost confidentiality.<br><br>I will call you next Tuesday, July 5, to discuss if this would be a suitable time for you to provide your feedback and answer any questions you may have.<br><br>We greatly value your support and candid feedback. If you have any preliminary thoughts or agree to participate in the survey, kindly respond to this email. Thank you once again for choosing TechnoBrains Inc. as your technology partner.<br><br>Best regards,<br><br>Mark Thompson<br>Senior Customer Support Manager<br>TechnoBrains Inc.\n",
      "cossim:\n",
      "0.46105074658919365\n",
      "Question: 34\n",
      "What is the purpose of Alan Peterson's email to Hannah Williams?\n",
      "Chunk:\n",
      "Subject: Essential Security Alerts: Protecting your Tech Business Assets in Today's Digital Landscape<br><br>Dear Hannah Williams,<br><br>I trust this email finds you well. My name is Alan Peterson, Cybersecurity Director at Quantum Cyber Solutions. I am writing you this email on an important matter. Recently, we have detected a significant uptick in complex cyber threats targeting the tech industry. These threats leverage new, sophisticated techniques capable of bypassing traditional security measures and potentially cause significant harm to your company's digital assets.<br><br>As you well know, we live in an era defined predominantly by digitization, where the security landscape is rapidly evolving, making it notably challenging for businesses to keep on top of. Recent events surrounding notable global companies have only served to highlight the need for renewed vigilance and enhanced security measures. I firmly believe that staying ahead of these threats requires being informed and prepared. Our industry experts at Quantum Cyber Solutions have released a series of critical security alerts tailored for tech companies, which I highly recommend that you review and disseminate within your organization.<br><br>I would like to invite you and your team to our upcoming Cybersecurity Leadership Virtual Summit scheduled for September 25th, 2022. This event will shine a spotlight on the latest cyber threats and will feature experts including former CIA cyber warfare officer, Edward Stevenson, who will provide strategies to mitigate these risks. The summit will also include a specific focus on incorporating these security alerts into your cybersecurity plan. To confirm your attendance for the summit, kindly RSVP by September 15th, 2022.<br><br>We are committed to aiding reputable organizations like yours in maintaining robust and effective cybersecurity measures. So let's collaborate to keep your digital landscape secure and your business thriving.<br><br>Feel free to reach out to me personally if you require any further information or wish to discuss potential challenges and how best to prepare for and tackle them.<br><br>Thank you for your attention to this critical matter.<br><br>Best regards,<br><br>Alan Peterson<br>Director of Cybersecurity <br>Quantum Cyber Solutions<br>alan.peterson@quantumcybersolutions.com<br>(555) 123-4567\n",
      "cossim:\n",
      "0.44461145197494\n",
      "Question: 68\n",
      "What details are provided about the workshop on November 23rd organized by Clear Vision Strategies?\n",
      "Chunk:\n",
      "Subject: Innovative Marketing Campaign Strategies for Government Departments <br><br>Dear Mr. Williams,<br><br>I trust this email finds you well. My name is Benjamin Franklin, and I am the Marketing Director of Clear Vision Strategies, a marketing firm specializing in developing powerful, effective campaigns for various industries. Over the past few years, we have honed our proficiency in devising marketing campaigns for government instrumentalities, and thought it would be a significant opportunity to share our expertise with you.<br><br>Clear Vision Strategies employs a unique blend of research, experience, creativity, and innovation to develop and execute marketing campaigns that successfully connect government entities with their public. We understand the inherent challenges faced by government departments in communicating with diverse audiences, and we are capable of crafting compelling messages that resonate effectively and prompt meaningful engagement. <br><br>On November 23rd, we're conducting a workshop at the Grand Civic Auditorium in downtown Chicago. The workshop, titled \"Marketing The Government: A New Paradigm\" covers an extensive range of topics from developing relevant content, utilizing digital platforms effectively to maximising citizen engagement through strategic messaging. We have invited accomplished speakers from our team and the industry at large, including our chief strategist, Vanessa Ray, and eminent public relation expert, Paul Goodman. We would be honored to have a representative from your department attend this insightful event. Kindly confirm your attendance by November 9th.<br><br>This workshop promises to be a valuable resource for your department's efforts to improve its marketing strategies and build stronger connections with the citizens you serve. <br><br>Thank you for considering our invitation. I look forward to the possibility of your department joining us for this enlightening event. Please feel free to contact me directly if you require any further information.<br><br>Best Regards,<br><br>Benjamin Franklin<br>Marketing Director <br>Clear Vision Strategies<br>Contact: (123) 456-7890<br>Email: benjamin.f@clearvisionstrategies.com\n",
      "cossim:\n",
      "0.46611769781959367\n",
      "Question: 69\n",
      "What is the purpose of Emily Roberts' email to Mr. Thompson?\n",
      "Chunk:\n",
      "Subject: Insightful Analysis on Q2 2022 Healthcare Financial Reports<br><br>Dear Mr. Thompson,<br><br>I hope this email finds you well. My name is Emily Roberts, Senior Analyst from Spencer & Associates Consulting. I am writing to bring your attention to our newly completed analysis of the second quarter Financial Reports for the Healthcare industry. We believe this insightful information will provide valuable assistance in strategic planning and big-picture decision-making for Remedy Healthcare.<br><br>The recently constructed analysis has been delicately assembled to paint a clear picture of investment opportunities, risks, and growth factors specifically in the healthcare sector. In addition to this, we have included our perspective on the impact of recent regulatory changes as well as an outlook considering the prevailing economic conditions globally and domestically.<br><br>A comprehensive understanding of dynamic market trends, performance metrics, and financial standing of key competitors could inform strategic investments, business development opportunities, and risks mitigation tactics. This report is supplemented with data visualizations to better interpret our findings. <br><br>We would like to set up a meeting to discuss this information with you and your team. How does the week of August 10 to August 14 sound to you? Please let us know your availability so we can make all necessary arrangements.<br><br>Kindly reply at your earliest convenience to confirm receipt of this email and to schedule a time for us to meet.<br><br>Thank you for your attention to this. We look forward to engaging with you and helping Remedy Healthcare harness this valuable industry data for successful forward planning.<br><br>Best regards,<br><br>Emily Roberts<br>Senior Financial Analyst<br>Spencer & Associates Consulting<br>emily.roberts@spencerandassociates.com<br>(555) 555-5555\n",
      "cossim:\n",
      "0.4601781054695588\n",
      "Question: 71\n",
      "What are the key details about the marketing campaigns and the upcoming webinar mentioned in the email?\n",
      "Chunk:\n",
      "Subject: Introducing Innovative Marketing Campaigns for the Healthcare Industry<br><br>Dear Dr. Emily Johnson,<br><br>I hope this email finds you in good health and high spirits. I am Audrey Miller, the Marketing Manager at HealthBridge Marketing Solutions. Our company specialises in tailor-made, creative healthcare marketing solutions. I am reaching out to you today to share some exciting new marketing campaigns we have developed specifically for the healthcare industry.<br><br>Our new campaigns are well researched, innovative, and are designed to employ state-of-the-art marketing strategies to uniquely position your healthcare services. We strive to increase patient engagement, improve patient experience, and raise overall awareness about essential healthcare practices. We wish to present these campaigns to you and your team and explore potential partnerships to collaborate and implement these strategies as we believe they could be highly beneficial for MediCare Hospital.<br><br>We are hosting a webinar on April 10th, 2024, 9:00 am PST wherein our marketing specialists, including myself, will delve into the intricacies of these campaigns. In addition, we will have Adam Peterson, a renowned marketer specialising in the healthcare sector as a guest speaker, who will share his insights and experiences with various target demographic groups. The webinar promises an interactive session with ample opportunities for Q&A and we believe it would provide valuable insights for your team at MediCare Hospital.<br><br>Please RSVP by March 25th, 2024 so we can send you the webinar link and materials in advance. If the proposed date is not suitable, I would be delighted to arrange a dedicated presentation for MediCare Hospital at a convenient time.<br><br>I am looking forward to hearing from you and exploring how HealthBridge Marketing Solutions can support your marketing efforts to the fullest. Please feel free to reply to this email or call me directly at (555) 123-4567 with any questions or for further discussion.<br><br>Best regards,<br><br>Audrey Miller<br>Marketing Manager<br>HealthBridge Marketing Solutions\n",
      "cossim:\n",
      "0.5465191928577307\n",
      "Question: 133\n",
      "What is the purpose of the email sent by William Peters to Leslie Thompson?\n",
      "Chunk:\n",
      "Subject: Inviting Your Expertise for Presentation on Financial Reports Relevant to the Government Industry<br><br>Dear Madam Leslie Thompson,<br><br>I hope this email finds you in good health and high spirits. I am writing on behalf of the Financial Reporting Council of Washington (FRCW), and I would first like to express our admiration for your acclaimed work in the field of Government finances.<br><br>The FRCW is organizing a conference on Understanding the Nuances of Financial Reports in the Government Industry. This critical event is set to take place on March 25th, 2023, at the Marriott Marquis Hotel, Washington, D.C. We are expecting a broad audience, including prominent financial analysts, accountants, policymakers, and government officials. <br><br>Given your vast knowledge and experience, we believe that your insights would greatly benefit our audience. Therefore, we humbly ask for your participation as a key speaker for this event. We would appreciate if you could present on the topic: “Leveraging Financial Reports for Better Governance”. You might want to address the interpretation of financial reports, infrastructure financing, and public sector efficiency among other touchpoints.<br><br>Kindly RSVP by February 15th, 2023, to confirm your participation and allow us enough time for proper scheduling and publicity. If you have any queries pertaining to the event or your engagement therein, please do not hesitate to reach out. We are looking forward to your positive response.<br><br>Thank you for considering our invitation. Your participation has the potential to significantly enrich the conversation and deepen the understandings of all attendees.<br><br>Best regards,<br><br>William Peters<br>Director, <br>Financial Reporting Council of Washington.\n",
      "cossim:\n",
      "0.36945938361915653\n",
      "Question: 140\n",
      "What is the purpose of the email sent by Susan Reynolds from Zenith Marketing Firm?\n",
      "Chunk:\n",
      "Subject: Maximizing Student Engagement through Strategic Marketing Campaigns <br><br>Dear Principal Lewis,<br><br>I hope this message finds you well. I represent Zenith Marketing Firm, a leading entity in creating effective marketing campaigns tailored specifically for the education industry. Over the years, we have helped numerous institutions like St. Luke’s High School to increase student engagement, enhance their reputations and promote their unique programs and initiatives.<br><br>I am writing today to introduce our newest marketing strategy, \"EduVance.\" This is a groundbreaking campaign which combines strategic planning, technology utilization, and student-involved storytelling to reach your target audiences in our digitally savvy era. This strategy has been designed to not just acquaint audiences with your institution’s name, but to effectively communicate your school’s message, capturing its essence and the values you seek to impart to your students.<br><br>Based on preliminary research on St. Luke’s High School, our team believes that implementing the EduVance Campaign could significantly increase your visibility and influence among current and prospective students and their parents. Our previous campaigns have resulted in an average increase of 30% in student inquiries and a 25% increase in enrollment numbers.<br><br>Our team would like to schedule a meeting on the 20th of May to present a detailed proposal tailored to St. Luke’s High School. This meeting will provide an opportunity for us to discuss your objectives and show how our unique marketing campaign can meet your needs. Could you kindly confirm your availability for this date, or let us know of any alternative dates that may suit you?<br><br>Thank you for considering Zenith Marketing Firm as your partner in enhancing St. Luke's High School's marketing endeavors. We look forward to the possibility of working together. <br><br>Best regards,<br><br>Susan Reynolds,<br>Senior Marketing Consultant,<br>Zenith Marketing Firm.\n",
      "cossim:\n",
      "0.5485623509698252\n",
      "Question: 150\n",
      "What are the details and purpose of the webinar mentioned in the email?\n",
      "Chunk:\n",
      "Subject: Propel your Business Forward with Emerging Tech Marketing Insights<br><br>Dear Mr. Alex Smith,<br><br>I hope this email finds you well. My name is Andrew Johnson, Director of Marketing at Quantum Tech Innovations. We are pleased to invite you to our webinar on “Emerging Trends in Tech Marketing Campaigns” which is scheduled to take place on 20th November, 2022 at 3:00 PM (EST). <br><br>Technology has become a driving force in all sectors, but even more so in marketing. Staying updated on the latest trends and techniques will set your products apart from competition. This webinar will help explore the current trends in technology marketing, from AI to Big Data to AR/VR, and also discuss their practical implementations for your marketing campaigns. Our keynote speaker, Dr. Anna Thompson, a renowned name in the tech industry, with experience spanning over two decades, will guide you through these insights. There will also be a live Q&A session at the end of the presentation where you could engage directly with Dr. Thompson and other participants.<br><br>Given your notable contributions to the tech industry, we believe that the insights presented will greatly benefit you and your team in executing your next marketing campaign. For your convenience, the webinar will be recorded and available for on-demand viewing post-event. <br><br>Please RSVP your attendance by the 10th of November, 2022. You can register yourself at www.quantumwebinar.com/register. Should you have any questions or need assistance in the registration process, please feel free to reach out to me directly.<br><br>We look forward to your participation at the event and exploring together the future of tech marketing campaigns.<br><br>Best Regards,<br><br>Andrew Johnson<br>Director of Marketing<br>Quantum Tech Innovations\n",
      "cossim:\n",
      "0.47770026237155894\n",
      "Question: 165\n",
      "What are the details of the webinar hosted by TransTech Solutions?\n",
      "Chunk:\n",
      "Subject: Understanding the Importance of Technical Documentation in the Tech Industry<br><br>Dear Albert Nichols,<br><br>I trust this email finds you in good health. I write to you today as the manager of documentation at TransTech Solutions, a company specialized in enhancing and maintaining technical documentation relevant to various businesses within the tech industry. We believe that well-structured and comprehensive technical documentation is not only essential to the functionality of products and services but also acts as an expression of the quality of those products and services to clients and customers. <br><br>We are hosting a webinar titled \"The Power of Sound Technical Documentation\" on March 20th, 2023. The event will be held online on our webinar platform, from 11:00 AM to 1:00 PM Pacific Standard Time. The topics will revolve around the nuances of creating efficient, reliable, and user-friendly technical documents, and the role they play in the growth of tech companies. The keynote speaker for the webinar will be Mrs. Emily Tanner, a renowned technical writer with a highly commendable expertise in the field. Mrs. Tanner will delve into the profound effects of high-quality technical documentation on customer satisfaction and retention. We believe her insights will greatly benefit your company, Triad Tech Inc. <br><br>I would like to extend an invitation to you and your team to participate in this enlightening event. I am convinced that the knowledge and skills that we will offer can greatly benefit your product development and customer interaction. Can I kindly request you to RSVP by the 5th of March 2023, for an accurate headcount for our virtual accommodation team?<br><br>Looking forward to your participation in what promises to be an insightful Webinar.<br><br>Best regards,<br><br>James Kendall<br>Manager of Documentation<br>TransTech Solutions\n",
      "cossim:\n",
      "0.5320298970715347\n",
      "Question: 166\n",
      "What exclusive opportunity is George Simmons presenting to Richard in the email?\n",
      "Chunk:\n",
      "Subject: Unlock New Opportunities With Innovative Marketing Strategies in Finance <br><br>Dear Richard, <br><br>I hope this email finds you in the best of health and high spirits. My name is George Simmons, and I serve as the Director of Marketing at Fintech Marketing Agency. I am reaching out to present an exclusive opportunity that could significantly elevate your marketing campaigns, particularly within the finance industry. <br><br>Our team of industry experts has systematically curated a comprehensive guide on modern and compelling marketing strategies tailored to the ever-evolving financial landscape. This comprises data-driven techniques, enhanced customer engagement strategies, and compliance-adherent digital platforms, among other innovative resources. Our past collaborations with industry giants like Global Finance Corp and FinTrust Bank have achieved increase in their sales by 20% and boosted customer acquisition by 15%, respectively, proof of the undeniable traction these strategies can yield.<br><br>To navigate the specifics and discuss how these strategies, tailored to your needs, can complement your marketing framework, I'd like to invite you to an exclusive webinar on the 12th of July, 2023. Our distinguished speakers - Laura Jacobs, an award-winning marketing strategist, and Neil Harris, \"Marketing Innovator of the Year\" - will delve into the riveting dynamics of marketing in the finance industry. To confirm your participation, please RSVP by the 1st of July. Your prompt response would assist us in ensuring that your experience is seamless and beneficial. <br><br>Kindly touch base with me at your earliest convenience if you have any queries, or if there's an alternate date or format that you'd be more comfortable with. We at Fintech Marketing Agency firmly believe that with a potent blend of traditional principles and modern techniques, the right marketing framework can set any campaign up for stellar success. We look forward to the prospect of assisting you along this transformative journey. <br><br>Best regards, <br><br>George Simmons<br>Director of Marketing,<br>Fintech Marketing Agency\n",
      "cossim:\n",
      "0.5031597868553448\n",
      "Question: 168\n",
      "What is the purpose and key details of the webinar mentioned in the email?\n",
      "Chunk:\n",
      "Subject: Unlocking New Avenues in Tech with Cutting-Edge Marketing Strategies<br><br>Dear Mr. David Warner,<br><br>I trust this email finds you in the best of health and spirits. My name is Jane Foster, Senior Marketing Associate at TechnoBlaze Solutions. I'm writing to inform you about a webinar that we are organizing, titled 'Harnessing the Power of Innovative Marketing Campaigns in the Tech Space.'<br><br>This online event, scheduled for July 20, 2023, aims to break down the latest trends, innovative strategies, and tools vital to marketing campaigns specific to the competitive tech industry. The webinar would feature meaningful discussions, expert insights, and technological demonstrations that are sure to enhance your marketing efforts.<br><br>Our esteemed speaker lineup includes the inspirational Sarah Greene, CMO of FutureTech Innovations, and our very own Bill Thompson, a marketing maven with over two decades of experience in the tech sector. We wholeheartedly believe their enriching perspectives will provide valuable insights for your marketing team.<br><br>Additionally, we are offering a virtual platform for networking, where attendees can interact and share their experiences, contributing to constructive exchanges. We assure you of a genuinely enlightening, participative, and beneficial experience.<br><br>May I kindly request that you RSVP by July 5, 2023? This will allow us to organize the necessary arrangements and secure your virtual seats. You can confirm your attendance by replying to this email or by calling our marketing coordinator, Jack Riley, at (555) 123-4567.<br><br>We are hopeful that with your participation, the event will echo success—shaping new paradigms in marketing within the tech industry. Thank you for considering this invitation. We look forward to your presence.<br><br>Best regards,<br><br>Jane Foster<br>Senior Marketing Associate<br>TechnoBlaze Solutions\n",
      "cossim:\n",
      "0.4968419840337752\n",
      "Question: 169\n",
      "What are the key details regarding the upcoming marketing campaign mentioned in the email?\n",
      "Chunk:\n",
      "Subject: Unveiling New Patient-Centric Marketing Strategies in Healthcare<br><br>Dear Mr. Jonathan Reynolds,<br><br>I trust this message finds you in good health. I am Margaret Dawson, the Senior Marketing Coordinator at Health Pulse Pharmaceuticals. It is with great pleasure that I reach out to inform you about our upcoming marketing campaign plans geared towards amplifying both patient engagement and your clinic's visibility in the healthcare landscape.<br><br>Given the ever-evolving landscape of the healthcare industry, it is of utmost importance that we effectively integrate the use of modern technology into our marketing efforts. With our new marketing strategies, we aim to capture patients' attention through offerings customized to their medical needs. Our approach leans towards personalizing relationships by implementing a more patient-centric framework, which will revolve around curated health content and interactive user experiences. This will, in turn, lead to better patient retention rates while inviting prospective patients to your clinic.<br><br>In respect of our mutually beneficial collaboration, we appreciate if you could provide us with feedback on our outlined plan by the 15th of April. Your insights will play an invaluable role in the successful execution of the campaign. Should you have any questions or need clarification on any part of the campaign, please feel free to address them at your earliest convenience.<br><br>Thank you for your continued cooperation, and we are confident that the concerted effort from both ends will lead to the successful niche expansion of your clinic in the hyper-competitive healthcare market.<br><br>Yours sincerely,<br><br>Margaret Dawson<br>Senior Marketing Coordinator,<br>Health Pulse Pharmaceuticals\n",
      "cossim:\n",
      "0.5337251723197756\n"
     ]
    }
   ],
   "source": [
    "mask = embedded_queries[\"cossim\"] < 0.55\n",
    "lower_cossim = embedded_queries[mask]\n",
    "for i, row in lower_cossim.iterrows():\n",
    "    print(f\"Question: {i}\")\n",
    "    print(row[\"question\"])\n",
    "    print(\"Chunk:\")\n",
    "    print(row[\"email\"])\n",
    "    print(\"cossim:\")\n",
    "    print(row[\"cossim\"])"
   ]
  },
  {
   "cell_type": "markdown",
   "metadata": {
    "application/vnd.databricks.v1+cell": {
     "cellMetadata": {},
     "inputWidgets": {},
     "nuid": "c91cb46d-e3c0-4478-9a67-14d380fcd40a",
     "showTitle": false,
     "title": ""
    }
   },
   "source": [
    "Manual inspection of these less relevant questions reveals that some chunks are less informative or mainly consists of code, hence the generated question might be less useful. You can choose to filter these as desired."
   ]
  }
 ],
 "metadata": {
  "application/vnd.databricks.v1+notebook": {
   "dashboards": [],
   "language": "python",
   "notebookMetadata": {
    "pythonIndentUnit": 4
   },
   "notebookName": "question-generation-retrieval-evaluation",
   "widgets": {}
  },
  "kernelspec": {
   "display_name": "base",
   "language": "python",
   "name": "python3"
  },
  "language_info": {
   "codemirror_mode": {
    "name": "ipython",
    "version": 3
   },
   "file_extension": ".py",
   "mimetype": "text/x-python",
   "name": "python",
   "nbconvert_exporter": "python",
   "pygments_lexer": "ipython3",
   "version": "3.12.2"
  }
 },
 "nbformat": 4,
 "nbformat_minor": 4
}
